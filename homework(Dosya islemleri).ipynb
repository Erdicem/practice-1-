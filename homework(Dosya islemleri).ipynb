{
 "cells": [
  {
   "cell_type": "code",
   "execution_count": null,
   "metadata": {},
   "outputs": [],
   "source": []
  },
  {
   "cell_type": "code",
   "execution_count": 67,
   "metadata": {},
   "outputs": [],
   "source": [
    "def Asalmisin (sayi):\n",
    "    if sayi >1:\n",
    "        for i in range(2,sayi):\n",
    "            if sayi%i==0:\n",
    "                return False\n",
    "            return True\n",
    "    else:\n",
    "        return False"
   ]
  },
  {
   "cell_type": "code",
   "execution_count": 78,
   "metadata": {},
   "outputs": [],
   "source": [
    "Asalmisin(2)"
   ]
  },
  {
   "cell_type": "code",
   "execution_count": 9,
   "metadata": {},
   "outputs": [
    {
     "name": "stdout",
     "output_type": "stream",
     "text": [
      "--------------------------------\n",
      "    Doğum Günü Uygulaması\n",
      "--------------------------------\n",
      "\n",
      "Ne zaman doğdunuz? \n",
      "Yıl [YYYY]: 1997\n",
      "Ay [AA]: 07\n",
      "Yıl [GG]: 09\n",
      "Doğum günün 111 gün içinde!\n"
     ]
    }
   ],
   "source": [
    "import datetime\n",
    "\n",
    "\n",
    "def başlık_yazdır():\n",
    "    print('--------------------------------')\n",
    "    print('    Doğum Günü Uygulaması')\n",
    "    print('--------------------------------')\n",
    "    print()\n",
    "\n",
    "\n",
    "def kullanıcıdan_doğumgünü_bilgisini_al():\n",
    "    print(\"Ne zaman doğdunuz? \")\n",
    "    yıl = int(input(\"Yıl [YYYY]: \"))\n",
    "    ay = int(input(\"Ay [AA]: \"))\n",
    "    gün = int(input(\"Yıl [GG]: \"))\n",
    "\n",
    "    doğum_günü = datetime.date(yıl, ay, gün)\n",
    "    return doğum_günü\n",
    "\n",
    "\n",
    "def tarihler_arasındaki_günleri_hesapla(orijinal_tarih, hedef_tarih):\n",
    "    bu_yıl = datetime.date(hedef_tarih.year, orijinal_tarih.month, orijinal_tarih.day)\n",
    "\n",
    "    gün_farkı = bu_yıl - hedef_tarih\n",
    "    return gün_farkı.days\n",
    "\n",
    "\n",
    "def doğum_günü_bilgilerini_yazdır(günler):\n",
    "    if günler < 0:\n",
    "        print('Bu yıl {} gün önce doğum günün vardı.'.format(-günler))\n",
    "    elif günler > 0:\n",
    "        print('Doğum günün {} gün içinde!'.format(günler))\n",
    "    else:\n",
    "        print('Doğum günün kutlu olsun!!!')\n",
    "\n",
    "\n",
    "def main():\n",
    "    başlık_yazdır()\n",
    "    dgünü = kullanıcıdan_doğumgünü_bilgisini_al()\n",
    "    bugün = datetime.date.today()\n",
    "    günlerin_sayısı = tarihler_arasındaki_günleri_hesapla(dgünü, bugün)\n",
    "    doğum_günü_bilgilerini_yazdır(günlerin_sayısı)\n",
    "\n",
    "\n",
    "main()"
   ]
  },
  {
   "cell_type": "code",
   "execution_count": null,
   "metadata": {},
   "outputs": [],
   "source": []
  }
 ],
 "metadata": {
  "kernelspec": {
   "display_name": "Python 3",
   "language": "python",
   "name": "python3"
  },
  "language_info": {
   "codemirror_mode": {
    "name": "ipython",
    "version": 3
   },
   "file_extension": ".py",
   "mimetype": "text/x-python",
   "name": "python",
   "nbconvert_exporter": "python",
   "pygments_lexer": "ipython3",
   "version": "3.7.4"
  }
 },
 "nbformat": 4,
 "nbformat_minor": 2
}
