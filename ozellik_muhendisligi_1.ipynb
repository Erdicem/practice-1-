{
 "cells": [
  {
   "cell_type": "markdown",
   "metadata": {},
   "source": [
    "# Özellik Mühendisliği"
   ]
  },
  {
   "cell_type": "code",
   "execution_count": 1,
   "metadata": {},
   "outputs": [],
   "source": [
    "import matplotlib.pyplot as plt \n",
    "import pandas as pd \n",
    "import numpy as np \n",
    "import seaborn as sns \n",
    "import scipy.stats as stats\n",
    "from scipy.stats.mstats import winsorize\n",
    "import warnings\n",
    "warnings.filterwarnings('ignore')\n",
    "sns.set(style=\"whitegrid\")\n",
    "baslik_font= {\"family\":\"arial\",\"color\":\"darkred\",\"weight\":\"bold\",\"size\":13}\n",
    "eksen_font = {'family':\"arial\",\"color\":\"darkred\",\"weight\":\"bold\",\"size\":10}\n",
    "pd.options.display.float_format= '{:.3f}'.format"
   ]
  },
  {
   "cell_type": "code",
   "execution_count": 20,
   "metadata": {},
   "outputs": [
    {
     "data": {
      "text/html": [
       "<div>\n",
       "<style scoped>\n",
       "    .dataframe tbody tr th:only-of-type {\n",
       "        vertical-align: middle;\n",
       "    }\n",
       "\n",
       "    .dataframe tbody tr th {\n",
       "        vertical-align: top;\n",
       "    }\n",
       "\n",
       "    .dataframe thead th {\n",
       "        text-align: right;\n",
       "    }\n",
       "</style>\n",
       "<table border=\"1\" class=\"dataframe\">\n",
       "  <thead>\n",
       "    <tr style=\"text-align: right;\">\n",
       "      <th></th>\n",
       "      <th>cinsiyet</th>\n",
       "      <th>grup</th>\n",
       "      <th>aile_egitimi</th>\n",
       "      <th>yemek</th>\n",
       "      <th>kurs</th>\n",
       "      <th>mat_notu</th>\n",
       "      <th>okuma_notu</th>\n",
       "      <th>yazma_notu</th>\n",
       "    </tr>\n",
       "  </thead>\n",
       "  <tbody>\n",
       "    <tr>\n",
       "      <td>0</td>\n",
       "      <td>female</td>\n",
       "      <td>group B</td>\n",
       "      <td>bachelor's degree</td>\n",
       "      <td>standard</td>\n",
       "      <td>none</td>\n",
       "      <td>72</td>\n",
       "      <td>72</td>\n",
       "      <td>74</td>\n",
       "    </tr>\n",
       "    <tr>\n",
       "      <td>1</td>\n",
       "      <td>female</td>\n",
       "      <td>group C</td>\n",
       "      <td>some college</td>\n",
       "      <td>standard</td>\n",
       "      <td>completed</td>\n",
       "      <td>69</td>\n",
       "      <td>90</td>\n",
       "      <td>88</td>\n",
       "    </tr>\n",
       "    <tr>\n",
       "      <td>2</td>\n",
       "      <td>female</td>\n",
       "      <td>group B</td>\n",
       "      <td>master's degree</td>\n",
       "      <td>standard</td>\n",
       "      <td>none</td>\n",
       "      <td>90</td>\n",
       "      <td>95</td>\n",
       "      <td>93</td>\n",
       "    </tr>\n",
       "    <tr>\n",
       "      <td>3</td>\n",
       "      <td>male</td>\n",
       "      <td>group A</td>\n",
       "      <td>associate's degree</td>\n",
       "      <td>free/reduced</td>\n",
       "      <td>none</td>\n",
       "      <td>47</td>\n",
       "      <td>57</td>\n",
       "      <td>44</td>\n",
       "    </tr>\n",
       "    <tr>\n",
       "      <td>4</td>\n",
       "      <td>male</td>\n",
       "      <td>group C</td>\n",
       "      <td>some college</td>\n",
       "      <td>standard</td>\n",
       "      <td>none</td>\n",
       "      <td>76</td>\n",
       "      <td>78</td>\n",
       "      <td>75</td>\n",
       "    </tr>\n",
       "  </tbody>\n",
       "</table>\n",
       "</div>"
      ],
      "text/plain": [
       "  cinsiyet     grup        aile_egitimi         yemek       kurs  mat_notu  \\\n",
       "0   female  group B   bachelor's degree      standard       none        72   \n",
       "1   female  group C        some college      standard  completed        69   \n",
       "2   female  group B     master's degree      standard       none        90   \n",
       "3     male  group A  associate's degree  free/reduced       none        47   \n",
       "4     male  group C        some college      standard       none        76   \n",
       "\n",
       "   okuma_notu  yazma_notu  \n",
       "0          72          74  \n",
       "1          90          88  \n",
       "2          95          93  \n",
       "3          57          44  \n",
       "4          78          75  "
      ]
     },
     "execution_count": 20,
     "metadata": {},
     "output_type": "execute_result"
    }
   ],
   "source": [
    "ogrenciler = pd.read_csv('StudentsPerformance.csv')\n",
    "ogrenciler.columns=['cinsiyet',\"grup\",\"aile_egitimi\",\"yemek\",\"kurs\",\"mat_notu\",\"okuma_notu\",\"yazma_notu\"]\n",
    "ogrenciler.head()"
   ]
  },
  {
   "cell_type": "code",
   "execution_count": 3,
   "metadata": {},
   "outputs": [
    {
     "data": {
      "image/png": "[encoded data removed]",
      "text/plain": [
       "<Figure size 1080x432 with 6 Axes>"
      ]
     },
     "metadata": {
      "needs_background": "light"
     },
     "output_type": "display_data"
    }
   ],
   "source": [
    "plt.figure(figsize=(15,6))\n",
    "degiskenler = ['mat_notu',\"okuma_notu\",\"yazma_notu\"]\n",
    "\n",
    "for i in np.arange(3):\n",
    "    plt.subplot(3,3,i+1)\n",
    "    plt.hist(ogrenciler[degiskenler[i]])\n",
    "    plt.title(degiskenler[i],fontdict=baslik_font)\n",
    "    \n",
    "\n",
    "for i in np.arange(3):\n",
    "    plt.subplot(2,3,i+4)\n",
    "    plt.hist(np.log(ogrenciler[degiskenler[i]]+1)) # eger değerlerden biri '0' olursa log sonsuza gittiği için hata verir o yüzden +1 \n",
    "    plt.title(\"log \"+degiskenler[i],fontdict=baslik_font)\n",
    "    \n",
    "\n",
    "plt.show()    "
   ]
  },
  {
   "cell_type": "markdown",
   "metadata": {},
   "source": [
    " Yukarıda ki grafikleriden değişkenlerimizin dönüştürülmemiş hali normal dağılıma yakınlar fakat tam olarak normal dagılım değiller log dönüşümlerini aldıklarımız da ise norma dagılımdan daha da uzaklaştılar\n",
    " \n",
    "##### İstatistiksel anlamda gerçekten normal dağılıma sahipler mi ? bakalım \n",
    "##### bunun için Jarque-Bera ve Normal testlerin sonuçlarına bakalım"
   ]
  },
  {
   "cell_type": "code",
   "execution_count": 5,
   "metadata": {},
   "outputs": [
    {
     "data": {
      "text/html": [
       "<div>\n",
       "<style scoped>\n",
       "    .dataframe tbody tr th:only-of-type {\n",
       "        vertical-align: middle;\n",
       "    }\n",
       "\n",
       "    .dataframe tbody tr th {\n",
       "        vertical-align: top;\n",
       "    }\n",
       "\n",
       "    .dataframe thead th {\n",
       "        text-align: right;\n",
       "    }\n",
       "</style>\n",
       "<table border=\"1\" class=\"dataframe\">\n",
       "  <thead>\n",
       "    <tr style=\"text-align: right;\">\n",
       "      <th></th>\n",
       "      <th>ozellik</th>\n",
       "      <th>jarque_bera_stats</th>\n",
       "      <th>jarque_bera_p_value</th>\n",
       "      <th>normal_stats</th>\n",
       "      <th>normal_p_value</th>\n",
       "    </tr>\n",
       "  </thead>\n",
       "  <tbody>\n",
       "    <tr>\n",
       "      <td>0</td>\n",
       "      <td>mat_notu</td>\n",
       "      <td>15.91226</td>\n",
       "      <td>0.00035</td>\n",
       "      <td>15.40896</td>\n",
       "      <td>0.00045</td>\n",
       "    </tr>\n",
       "    <tr>\n",
       "      <td>1</td>\n",
       "      <td>okuma_notu</td>\n",
       "      <td>11.38330</td>\n",
       "      <td>0.00337</td>\n",
       "      <td>11.11741</td>\n",
       "      <td>0.00385</td>\n",
       "    </tr>\n",
       "    <tr>\n",
       "      <td>2</td>\n",
       "      <td>yazma_notu</td>\n",
       "      <td>13.98509</td>\n",
       "      <td>0.00092</td>\n",
       "      <td>13.60645</td>\n",
       "      <td>0.00111</td>\n",
       "    </tr>\n",
       "  </tbody>\n",
       "</table>\n",
       "</div>"
      ],
      "text/plain": [
       "      ozellik  jarque_bera_stats  jarque_bera_p_value  normal_stats  \\\n",
       "0    mat_notu           15.91226              0.00035      15.40896   \n",
       "1  okuma_notu           11.38330              0.00337      11.11741   \n",
       "2  yazma_notu           13.98509              0.00092      13.60645   \n",
       "\n",
       "   normal_p_value  \n",
       "0         0.00045  \n",
       "1         0.00385  \n",
       "2         0.00111  "
      ]
     },
     "execution_count": 5,
     "metadata": {},
     "output_type": "execute_result"
    }
   ],
   "source": [
    "from scipy.stats import jarque_bera\n",
    "from scipy.stats import normaltest\n",
    "pd.options.display.float_format = '{:.5f}'.format\n",
    "\n",
    "ozellikler = ['mat_notu',\"okuma_notu\",\"yazma_notu\"]\n",
    "dagilim_testleri = pd.DataFrame(columns=['ozellik', 'jarque_bera_stats', 'jarque_bera_p_value', \n",
    "                                         'normal_stats', 'normal_p_value'])\n",
    "\n",
    "for ozellik in ozellikler:\n",
    "    jb_stats = jarque_bera(ogrenciler[ozellik])\n",
    "    norm_stats = normaltest(ogrenciler[ozellik])\n",
    "    dagilim_testleri = dagilim_testleri.append({\"ozellik\": ozellik,\n",
    "                                                \"jarque_bera_stats\" : jb_stats[0] ,\n",
    "                                                \"jarque_bera_p_value\" : jb_stats[1] ,\n",
    "                                                \"normal_stats\": norm_stats[0] , \n",
    "                                                \"normal_p_value\" : norm_stats[1]\n",
    "                                               }, ignore_index=True)\n",
    "\n",
    "dagilim_testleri"
   ]
  },
  {
   "cell_type": "code",
   "execution_count": 9,
   "metadata": {},
   "outputs": [
    {
     "name": "stdout",
     "output_type": "stream",
     "text": [
      "   cinsiyet     grup      aile_egitimi         yemek  kurs  mat_notu  \\\n",
      "59   female  group C  some high school  free/reduced  none         0   \n",
      "\n",
      "    okuma_notu  yazma_notu  \n",
      "59          17          10  \n",
      "Empty DataFrame\n",
      "Columns: [cinsiyet, grup, aile_egitimi, yemek, kurs, mat_notu, okuma_notu, yazma_notu]\n",
      "Index: []\n",
      "Empty DataFrame\n",
      "Columns: [cinsiyet, grup, aile_egitimi, yemek, kurs, mat_notu, okuma_notu, yazma_notu]\n",
      "Index: []\n"
     ]
    }
   ],
   "source": [
    "degiskenler = ['mat_notu',\"okuma_notu\",\"yazma_notu\"]\n",
    "for i in range(3):\n",
    "    a=ogrenciler[ogrenciler[degiskenler[i]]==0]\n",
    "    print(a)"
   ]
  },
  {
   "cell_type": "code",
   "execution_count": 10,
   "metadata": {},
   "outputs": [
    {
     "data": {
      "text/html": [
       "<div>\n",
       "<style scoped>\n",
       "    .dataframe tbody tr th:only-of-type {\n",
       "        vertical-align: middle;\n",
       "    }\n",
       "\n",
       "    .dataframe tbody tr th {\n",
       "        vertical-align: top;\n",
       "    }\n",
       "\n",
       "    .dataframe thead th {\n",
       "        text-align: right;\n",
       "    }\n",
       "</style>\n",
       "<table border=\"1\" class=\"dataframe\">\n",
       "  <thead>\n",
       "    <tr style=\"text-align: right;\">\n",
       "      <th></th>\n",
       "      <th>cinsiyet</th>\n",
       "      <th>grup</th>\n",
       "      <th>aile_egitimi</th>\n",
       "      <th>yemek</th>\n",
       "      <th>kurs</th>\n",
       "      <th>mat_notu</th>\n",
       "      <th>okuma_notu</th>\n",
       "      <th>yazma_notu</th>\n",
       "    </tr>\n",
       "  </thead>\n",
       "  <tbody>\n",
       "    <tr>\n",
       "      <td>59</td>\n",
       "      <td>female</td>\n",
       "      <td>group C</td>\n",
       "      <td>some high school</td>\n",
       "      <td>free/reduced</td>\n",
       "      <td>none</td>\n",
       "      <td>0</td>\n",
       "      <td>17</td>\n",
       "      <td>10</td>\n",
       "    </tr>\n",
       "  </tbody>\n",
       "</table>\n",
       "</div>"
      ],
      "text/plain": [
       "   cinsiyet     grup      aile_egitimi         yemek  kurs  mat_notu  \\\n",
       "59   female  group C  some high school  free/reduced  none         0   \n",
       "\n",
       "    okuma_notu  yazma_notu  \n",
       "59          17          10  "
      ]
     },
     "execution_count": 10,
     "metadata": {},
     "output_type": "execute_result"
    }
   ],
   "source": [
    "ogrenciler[ogrenciler['mat_notu']==0]"
   ]
  },
  {
   "cell_type": "code",
   "execution_count": 11,
   "metadata": {},
   "outputs": [
    {
     "name": "stdout",
     "output_type": "stream",
     "text": [
      "Minimum Degerler \n",
      " ----------------\n",
      "mat_notu            0.00000\n",
      "norm_math_score     0.00000\n",
      "okuma_notu         17.00000\n",
      "norm_okuma_score    0.00760\n",
      "yazma_notu         10.00000\n",
      "norm_yazma_score    0.00454\n",
      "dtype: float64\n",
      "Maximum Degerler \n",
      " ----------------\n",
      "mat_notu           100.00000\n",
      "norm_math_score      0.04664\n",
      "okuma_notu         100.00000\n",
      "norm_okuma_score     0.04473\n",
      "yazma_notu         100.00000\n",
      "norm_yazma_score     0.04535\n",
      "dtype: float64\n"
     ]
    }
   ],
   "source": [
    "# sınav notları normal dagılım mı ? \n",
    "# [0 ve 1] aralıgında yeniden ölçeklendirdir verileri..\n",
    "from sklearn.preprocessing import normalize\n",
    "\n",
    "ogrenciler['norm_math_score'] = normalize(np.array(ogrenciler['mat_notu']).reshape(1,-1)).reshape(-1,1)\n",
    "ogrenciler['norm_okuma_score'] = normalize(np.array(ogrenciler['okuma_notu']).reshape(1,-1)).reshape(-1,1)\n",
    "ogrenciler['norm_yazma_score'] = normalize(np.array(ogrenciler['yazma_notu']).reshape(1,-1)).reshape(-1,1)\n",
    "\n",
    "normal_ozellikler= ['mat_notu',\"norm_math_score\",\"okuma_notu\",\"norm_okuma_score\",\"yazma_notu\",\"norm_yazma_score\"]\n",
    "\n",
    "print(\"Minimum Degerler \\n ----------------\",)\n",
    "print(ogrenciler[normal_ozellikler].min())\n",
    "print(\"Maximum Degerler \\n ----------------\",)\n",
    "print(ogrenciler[normal_ozellikler].max())\n"
   ]
  },
  {
   "cell_type": "markdown",
   "metadata": {},
   "source": [
    "Normalleştirdiğimiz değerleri grafik üzerinde görelim."
   ]
  },
  {
   "cell_type": "code",
   "execution_count": 12,
   "metadata": {},
   "outputs": [
    {
     "data": {
      "image/png": "[encoded data removed]",
      "text/plain": [
       "<Figure size 1296x360 with 3 Axes>"
      ]
     },
     "metadata": {
      "needs_background": "light"
     },
     "output_type": "display_data"
    }
   ],
   "source": [
    "plt.figure(figsize=(18,5))\n",
    "\n",
    "for i in range(3):\n",
    "    plt.subplot(1,3,i+1)\n",
    "    plt.scatter(ogrenciler[normal_ozellikler[2*i]], ogrenciler[normal_ozellikler[2*i+1]])\n",
    "    plt.title(\"Orjinal ve Normalize değerler /n ({})\".format(normal_ozellikler[2*i]), fontdict=baslik_font)\n",
    "    plt.xlabel(normal_ozellikler[2*i],fontdict=eksen_font)\n",
    "    plt.ylabel(normal_ozellikler[2*i+1],fontdict=eksen_font)\n",
    "    \n",
    "plt.show()"
   ]
  },
  {
   "cell_type": "code",
   "execution_count": 13,
   "metadata": {},
   "outputs": [],
   "source": [
    "\n",
    "ogrenciler['ORT_NOT']= ogrenciler[degiskenler[i]]"
   ]
  },
  {
   "cell_type": "code",
   "execution_count": 18,
   "metadata": {},
   "outputs": [],
   "source": [
    "ogrenciler.drop(['ORT_NOT'], axis=1, inplace=True)"
   ]
  },
  {
   "cell_type": "code",
   "execution_count": 22,
   "metadata": {},
   "outputs": [
    {
     "data": {
      "text/html": [
       "<div>\n",
       "<style scoped>\n",
       "    .dataframe tbody tr th:only-of-type {\n",
       "        vertical-align: middle;\n",
       "    }\n",
       "\n",
       "    .dataframe tbody tr th {\n",
       "        vertical-align: top;\n",
       "    }\n",
       "\n",
       "    .dataframe thead th {\n",
       "        text-align: right;\n",
       "    }\n",
       "</style>\n",
       "<table border=\"1\" class=\"dataframe\">\n",
       "  <thead>\n",
       "    <tr style=\"text-align: right;\">\n",
       "      <th></th>\n",
       "      <th>cinsiyet</th>\n",
       "      <th>grup</th>\n",
       "      <th>aile_egitimi</th>\n",
       "      <th>yemek</th>\n",
       "      <th>kurs</th>\n",
       "      <th>mat_notu</th>\n",
       "      <th>okuma_notu</th>\n",
       "      <th>yazma_notu</th>\n",
       "    </tr>\n",
       "  </thead>\n",
       "  <tbody>\n",
       "    <tr>\n",
       "      <td>0</td>\n",
       "      <td>female</td>\n",
       "      <td>group B</td>\n",
       "      <td>bachelor's degree</td>\n",
       "      <td>standard</td>\n",
       "      <td>none</td>\n",
       "      <td>72</td>\n",
       "      <td>72</td>\n",
       "      <td>74</td>\n",
       "    </tr>\n",
       "    <tr>\n",
       "      <td>1</td>\n",
       "      <td>female</td>\n",
       "      <td>group C</td>\n",
       "      <td>some college</td>\n",
       "      <td>standard</td>\n",
       "      <td>completed</td>\n",
       "      <td>69</td>\n",
       "      <td>90</td>\n",
       "      <td>88</td>\n",
       "    </tr>\n",
       "    <tr>\n",
       "      <td>2</td>\n",
       "      <td>female</td>\n",
       "      <td>group B</td>\n",
       "      <td>master's degree</td>\n",
       "      <td>standard</td>\n",
       "      <td>none</td>\n",
       "      <td>90</td>\n",
       "      <td>95</td>\n",
       "      <td>93</td>\n",
       "    </tr>\n",
       "    <tr>\n",
       "      <td>3</td>\n",
       "      <td>male</td>\n",
       "      <td>group A</td>\n",
       "      <td>associate's degree</td>\n",
       "      <td>free/reduced</td>\n",
       "      <td>none</td>\n",
       "      <td>47</td>\n",
       "      <td>57</td>\n",
       "      <td>44</td>\n",
       "    </tr>\n",
       "    <tr>\n",
       "      <td>4</td>\n",
       "      <td>male</td>\n",
       "      <td>group C</td>\n",
       "      <td>some college</td>\n",
       "      <td>standard</td>\n",
       "      <td>none</td>\n",
       "      <td>76</td>\n",
       "      <td>78</td>\n",
       "      <td>75</td>\n",
       "    </tr>\n",
       "  </tbody>\n",
       "</table>\n",
       "</div>"
      ],
      "text/plain": [
       "  cinsiyet     grup        aile_egitimi         yemek       kurs  mat_notu  \\\n",
       "0   female  group B   bachelor's degree      standard       none        72   \n",
       "1   female  group C        some college      standard  completed        69   \n",
       "2   female  group B     master's degree      standard       none        90   \n",
       "3     male  group A  associate's degree  free/reduced       none        47   \n",
       "4     male  group C        some college      standard       none        76   \n",
       "\n",
       "   okuma_notu  yazma_notu  \n",
       "0          72          74  \n",
       "1          90          88  \n",
       "2          95          93  \n",
       "3          57          44  \n",
       "4          78          75  "
      ]
     },
     "execution_count": 22,
     "metadata": {},
     "output_type": "execute_result"
    }
   ],
   "source": [
    "ogrenciler.head()"
   ]
  },
  {
   "cell_type": "code",
   "execution_count": 23,
   "metadata": {},
   "outputs": [
    {
     "data": {
      "image/png": "[encoded data removed]",
      "text/plain": [
       "<Figure size 432x288 with 1 Axes>"
      ]
     },
     "metadata": {
      "needs_background": "light"
     },
     "output_type": "display_data"
    },
    {
     "name": "stdout",
     "output_type": "stream",
     "text": [
      "Jarque-Bera test istatistik 15.453387913085164 ve p degeri 0.00044089934264401887\n",
      "Normal test istatistik 15.186721327231322 ve p degeri 0.0005037851534494478\n"
     ]
    }
   ],
   "source": [
    "exam_score = (ogrenciler['mat_notu']+ ogrenciler['okuma_notu']+ogrenciler['yazma_notu'])/3\n",
    "\n",
    "plt.hist(exam_score)\n",
    "plt.title(\"histogram of exam score\")\n",
    "plt.show()\n",
    "\n",
    "jb_stats= jarque_bera(exam_score)\n",
    "norm_stats= normaltest(exam_score)\n",
    "\n",
    "print(\"Jarque-Bera test istatistik {} ve p degeri {}\".format(jb_stats[0],jb_stats[1]))\n",
    "print(\"Normal test istatistik {} ve p degeri {}\".format(norm_stats[0],norm_stats[1]))\n"
   ]
  },
  {
   "cell_type": "markdown",
   "metadata": {},
   "source": [
    " Ort. dagılımları normal dağılım değil"
   ]
  },
  {
   "cell_type": "code",
   "execution_count": 32,
   "metadata": {},
   "outputs": [
    {
     "data": {
      "image/png": "[encoded data removed]",
      "text/plain": [
       "<Figure size 432x288 with 1 Axes>"
      ]
     },
     "metadata": {
      "needs_background": "light"
     },
     "output_type": "display_data"
    },
    {
     "name": "stdout",
     "output_type": "stream",
     "text": [
      "Jarque-Bera test istatistik 2.435398933127944 ve p degeri 0.29591013563983815\n",
      "Normality test istatistik 2.779857602227654 ve p degeri 0.24909303914726255\n"
     ]
    }
   ],
   "source": [
    "from scipy.stats import boxcox\n",
    "\n",
    "exams_boxcox,_ = boxcox(exam_score)\n",
    "\n",
    "plt.hist(exams_boxcox)\n",
    "plt.title(\"histogram of sınav score (box-cox transformed)\")\n",
    "plt.show()\n",
    "\n",
    "jb_stats = jarque_bera(exams_boxcox)\n",
    "norm_stats = normaltest(exams_boxcox)\n",
    "\n",
    "print(\"Jarque-Bera test istatistik {} ve p degeri {}\".format(jb_stats[0], jb_stats[1]))\n",
    "print(\"Normality test istatistik {} ve p degeri {}\".format(norm_stats[0], norm_stats[1]))"
   ]
  },
  {
   "cell_type": "markdown",
   "metadata": {},
   "source": [
    "Yukarıdaki dağılım normal dağılımlıdır. "
   ]
  },
  {
   "cell_type": "markdown",
   "metadata": {},
   "source": [
    "# 3. Bir önceki soruda oluşturduğumuz hedef değişkeni ile hangi değişkenler ilişkili görünüyor? Eğer amacımız sınav başarısını belirleyen etkenleri açıklamak olsaydı hangi değişkenleri veri kümemizde tutmamız gerekirdi?¶"
   ]
  },
  {
   "cell_type": "code",
   "execution_count": 36,
   "metadata": {},
   "outputs": [
    {
     "data": {
      "image/png": "[encoded data removed]",
      "text/plain": [
       "<Figure size 1296x720 with 5 Axes>"
      ]
     },
     "metadata": {
      "needs_background": "light"
     },
     "output_type": "display_data"
    }
   ],
   "source": [
    "ogrenciler['exam_score']= exam_score\n",
    "\n",
    "plt.figure(figsize=(18,10))\n",
    "\n",
    "plt.subplot(2,3,1)\n",
    "plt.bar(ogrenciler.groupby(\"grup\")['exam_score'].mean().index,  ogrenciler.groupby(\"grup\")['exam_score'].mean())\n",
    "plt.title(\"Gruplara göre ortalama exam score\")\n",
    "plt.xticks(rotation= \"vertical\")\n",
    "\n",
    "plt.subplot(2,3,2)\n",
    "plt.bar(ogrenciler.groupby('cinsiyet')['exam_score'].mean().index, ogrenciler.groupby('cinsiyet')[\"exam_score\"].mean())\n",
    "plt.title(\"Cinsiyete göre ort. exam score\")\n",
    "plt.xticks(rotation=\"vertical\")\n",
    "\n",
    "plt.subplot(2,3,3)\n",
    "plt.bar(ogrenciler.groupby('aile_egitimi')[\"exam_score\"].mean().index, ogrenciler.groupby('aile_egitimi')[\"exam_score\"].mean())\n",
    "plt.title(\"aile_egitimi göre ort. exam score\")\n",
    "plt.xticks(rotation=\"vertical\")\n",
    "\n",
    "plt.subplot(2,3,4)\n",
    "plt.bar(ogrenciler.groupby('yemek')[\"exam_score\"].mean().index, ogrenciler.groupby('yemek')[\"exam_score\"].mean())\n",
    "plt.title(\"yemek göre ort. exam score\")\n",
    "plt.xticks(rotation=\"vertical\")\n",
    "\n",
    "plt.subplot(2,3,5)\n",
    "plt.bar(ogrenciler.groupby('kurs')[\"exam_score\"].mean().index, ogrenciler.groupby('kurs')[\"exam_score\"].mean())\n",
    "plt.title(\"kurs göre ort. exam score\")\n",
    "plt.xticks(rotation=\"vertical\")\n",
    "\n",
    "\n",
    "plt.tight_layout()\n",
    "plt.show()"
   ]
  },
  {
   "cell_type": "code",
   "execution_count": null,
   "metadata": {},
   "outputs": [],
   "source": []
  }
 ],
 "metadata": {
  "kernelspec": {
   "display_name": "Python 3",
   "language": "python",
   "name": "python3"
  },
  "language_info": {
   "codemirror_mode": {
    "name": "ipython",
    "version": 3
   },
   "file_extension": ".py",
   "mimetype": "text/x-python",
   "name": "python",
   "nbconvert_exporter": "python",
   "pygments_lexer": "ipython3",
   "version": "3.7.4"
  }
 },
 "nbformat": 4,
 "nbformat_minor": 2
}
