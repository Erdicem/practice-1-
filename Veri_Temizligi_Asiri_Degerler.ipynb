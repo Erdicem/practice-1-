{
 "cells": [
  {
   "cell_type": "markdown",
   "metadata": {},
   "source": [
    "# Aykırı Değerler "
   ]
  },
  {
   "cell_type": "code",
   "execution_count": 1,
   "metadata": {},
   "outputs": [],
   "source": [
    "import pandas as pd \n",
    "import numpy as np\n",
    "import warnings\n",
    "import matplotlib.pyplot as plt\n",
    "warnings.filterwarnings('ignore')"
   ]
  },
  {
   "cell_type": "code",
   "execution_count": 2,
   "metadata": {},
   "outputs": [
    {
     "data": {
      "text/html": [
       "<div>\n",
       "<style scoped>\n",
       "    .dataframe tbody tr th:only-of-type {\n",
       "        vertical-align: middle;\n",
       "    }\n",
       "\n",
       "    .dataframe tbody tr th {\n",
       "        vertical-align: top;\n",
       "    }\n",
       "\n",
       "    .dataframe thead th {\n",
       "        text-align: right;\n",
       "    }\n",
       "</style>\n",
       "<table border=\"1\" class=\"dataframe\">\n",
       "  <thead>\n",
       "    <tr style=\"text-align: right;\">\n",
       "      <th></th>\n",
       "      <th>Unnamed: 0</th>\n",
       "      <th>PRIMARY_KEY</th>\n",
       "      <th>STATE</th>\n",
       "      <th>YEAR</th>\n",
       "      <th>ENROLL</th>\n",
       "      <th>TOTAL_REVENUE</th>\n",
       "      <th>FEDERAL_REVENUE</th>\n",
       "      <th>STATE_REVENUE</th>\n",
       "      <th>LOCAL_REVENUE</th>\n",
       "      <th>TOTAL_EXPENDITURE</th>\n",
       "      <th>...</th>\n",
       "      <th>GRADES_4_G</th>\n",
       "      <th>GRADES_8_G</th>\n",
       "      <th>GRADES_12_G</th>\n",
       "      <th>GRADES_1_8_G</th>\n",
       "      <th>GRADES_9_12_G</th>\n",
       "      <th>GRADES_ALL_G</th>\n",
       "      <th>AVG_MATH_4_SCORE</th>\n",
       "      <th>AVG_MATH_8_SCORE</th>\n",
       "      <th>AVG_READING_4_SCORE</th>\n",
       "      <th>AVG_READING_8_SCORE</th>\n",
       "    </tr>\n",
       "  </thead>\n",
       "  <tbody>\n",
       "    <tr>\n",
       "      <td>0</td>\n",
       "      <td>0</td>\n",
       "      <td>1992_ALABAMA</td>\n",
       "      <td>ALABAMA</td>\n",
       "      <td>1992</td>\n",
       "      <td>920824.648047</td>\n",
       "      <td>2.678885e+06</td>\n",
       "      <td>3.041770e+05</td>\n",
       "      <td>1.659028e+06</td>\n",
       "      <td>7.156800e+05</td>\n",
       "      <td>2.653798e+06</td>\n",
       "      <td>...</td>\n",
       "      <td>57948.0</td>\n",
       "      <td>58025.000000</td>\n",
       "      <td>41167.000000</td>\n",
       "      <td>577954.717647</td>\n",
       "      <td>282069.084967</td>\n",
       "      <td>7.316340e+05</td>\n",
       "      <td>208.327876</td>\n",
       "      <td>252.187522</td>\n",
       "      <td>207.963517</td>\n",
       "      <td>NaN</td>\n",
       "    </tr>\n",
       "    <tr>\n",
       "      <td>1</td>\n",
       "      <td>1</td>\n",
       "      <td>1992_ALASKA</td>\n",
       "      <td>ALASKA</td>\n",
       "      <td>1992</td>\n",
       "      <td>920824.648047</td>\n",
       "      <td>1.049591e+06</td>\n",
       "      <td>1.067800e+05</td>\n",
       "      <td>7.207110e+05</td>\n",
       "      <td>2.221000e+05</td>\n",
       "      <td>9.724880e+05</td>\n",
       "      <td>...</td>\n",
       "      <td>9748.0</td>\n",
       "      <td>8789.000000</td>\n",
       "      <td>6714.000000</td>\n",
       "      <td>577954.717647</td>\n",
       "      <td>282069.084967</td>\n",
       "      <td>1.224870e+05</td>\n",
       "      <td>NaN</td>\n",
       "      <td>NaN</td>\n",
       "      <td>NaN</td>\n",
       "      <td>258.859712</td>\n",
       "    </tr>\n",
       "    <tr>\n",
       "      <td>2</td>\n",
       "      <td>2</td>\n",
       "      <td>1992_ARIZONA</td>\n",
       "      <td>ARIZONA</td>\n",
       "      <td>1992</td>\n",
       "      <td>920824.648047</td>\n",
       "      <td>3.258079e+06</td>\n",
       "      <td>2.978880e+05</td>\n",
       "      <td>1.369815e+06</td>\n",
       "      <td>1.590376e+06</td>\n",
       "      <td>3.401580e+06</td>\n",
       "      <td>...</td>\n",
       "      <td>55433.0</td>\n",
       "      <td>49081.000000</td>\n",
       "      <td>37410.000000</td>\n",
       "      <td>577954.717647</td>\n",
       "      <td>282069.084967</td>\n",
       "      <td>6.734770e+05</td>\n",
       "      <td>215.253932</td>\n",
       "      <td>265.366278</td>\n",
       "      <td>206.212716</td>\n",
       "      <td>262.169895</td>\n",
       "    </tr>\n",
       "    <tr>\n",
       "      <td>3</td>\n",
       "      <td>3</td>\n",
       "      <td>1992_ARKANSAS</td>\n",
       "      <td>ARKANSAS</td>\n",
       "      <td>1992</td>\n",
       "      <td>920824.648047</td>\n",
       "      <td>1.711959e+06</td>\n",
       "      <td>1.785710e+05</td>\n",
       "      <td>9.587850e+05</td>\n",
       "      <td>5.746030e+05</td>\n",
       "      <td>1.743022e+06</td>\n",
       "      <td>...</td>\n",
       "      <td>34632.0</td>\n",
       "      <td>36011.000000</td>\n",
       "      <td>27651.000000</td>\n",
       "      <td>577954.717647</td>\n",
       "      <td>282069.084967</td>\n",
       "      <td>4.414900e+05</td>\n",
       "      <td>210.206028</td>\n",
       "      <td>256.312090</td>\n",
       "      <td>208.634458</td>\n",
       "      <td>264.619665</td>\n",
       "    </tr>\n",
       "    <tr>\n",
       "      <td>4</td>\n",
       "      <td>4</td>\n",
       "      <td>1992_CALIFORNIA</td>\n",
       "      <td>CALIFORNIA</td>\n",
       "      <td>1992</td>\n",
       "      <td>920824.648047</td>\n",
       "      <td>2.626002e+07</td>\n",
       "      <td>2.072470e+06</td>\n",
       "      <td>1.654651e+07</td>\n",
       "      <td>7.641041e+06</td>\n",
       "      <td>2.713883e+07</td>\n",
       "      <td>...</td>\n",
       "      <td>418418.0</td>\n",
       "      <td>363296.000000</td>\n",
       "      <td>270675.000000</td>\n",
       "      <td>577954.717647</td>\n",
       "      <td>282069.084967</td>\n",
       "      <td>5.254844e+06</td>\n",
       "      <td>208.398961</td>\n",
       "      <td>260.892247</td>\n",
       "      <td>196.764414</td>\n",
       "      <td>NaN</td>\n",
       "    </tr>\n",
       "    <tr>\n",
       "      <td>...</td>\n",
       "      <td>...</td>\n",
       "      <td>...</td>\n",
       "      <td>...</td>\n",
       "      <td>...</td>\n",
       "      <td>...</td>\n",
       "      <td>...</td>\n",
       "      <td>...</td>\n",
       "      <td>...</td>\n",
       "      <td>...</td>\n",
       "      <td>...</td>\n",
       "      <td>...</td>\n",
       "      <td>...</td>\n",
       "      <td>...</td>\n",
       "      <td>...</td>\n",
       "      <td>...</td>\n",
       "      <td>...</td>\n",
       "      <td>...</td>\n",
       "      <td>...</td>\n",
       "      <td>...</td>\n",
       "      <td>...</td>\n",
       "      <td>...</td>\n",
       "    </tr>\n",
       "    <tr>\n",
       "      <td>1913</td>\n",
       "      <td>1913</td>\n",
       "      <td>2017_NORTH_DAKOTA</td>\n",
       "      <td>NORTH_DAKOTA</td>\n",
       "      <td>2017</td>\n",
       "      <td>917541.566176</td>\n",
       "      <td>9.290765e+06</td>\n",
       "      <td>7.873945e+05</td>\n",
       "      <td>4.312719e+06</td>\n",
       "      <td>4.190651e+06</td>\n",
       "      <td>9.395936e+06</td>\n",
       "      <td>...</td>\n",
       "      <td>69284.0</td>\n",
       "      <td>68324.391524</td>\n",
       "      <td>58768.074004</td>\n",
       "      <td>577954.717647</td>\n",
       "      <td>282069.084967</td>\n",
       "      <td>9.163662e+05</td>\n",
       "      <td>244.243515</td>\n",
       "      <td>288.172322</td>\n",
       "      <td>221.519266</td>\n",
       "      <td>262.720477</td>\n",
       "    </tr>\n",
       "    <tr>\n",
       "      <td>1914</td>\n",
       "      <td>1914</td>\n",
       "      <td>2017_RHODE_ISLAND</td>\n",
       "      <td>RHODE_ISLAND</td>\n",
       "      <td>2017</td>\n",
       "      <td>917541.566176</td>\n",
       "      <td>9.290765e+06</td>\n",
       "      <td>7.873945e+05</td>\n",
       "      <td>4.312719e+06</td>\n",
       "      <td>4.190651e+06</td>\n",
       "      <td>9.395936e+06</td>\n",
       "      <td>...</td>\n",
       "      <td>69284.0</td>\n",
       "      <td>68324.391524</td>\n",
       "      <td>58768.074004</td>\n",
       "      <td>577954.717647</td>\n",
       "      <td>282069.084967</td>\n",
       "      <td>9.163662e+05</td>\n",
       "      <td>237.554934</td>\n",
       "      <td>277.180126</td>\n",
       "      <td>223.353443</td>\n",
       "      <td>269.553823</td>\n",
       "    </tr>\n",
       "    <tr>\n",
       "      <td>1915</td>\n",
       "      <td>1915</td>\n",
       "      <td>2017_SOUTH_CAROLINA</td>\n",
       "      <td>SOUTH_CAROLINA</td>\n",
       "      <td>2017</td>\n",
       "      <td>917541.566176</td>\n",
       "      <td>9.290765e+06</td>\n",
       "      <td>7.873945e+05</td>\n",
       "      <td>4.312719e+06</td>\n",
       "      <td>4.190651e+06</td>\n",
       "      <td>9.395936e+06</td>\n",
       "      <td>...</td>\n",
       "      <td>69284.0</td>\n",
       "      <td>68324.391524</td>\n",
       "      <td>58768.074004</td>\n",
       "      <td>577954.717647</td>\n",
       "      <td>282069.084967</td>\n",
       "      <td>9.163662e+05</td>\n",
       "      <td>234.043993</td>\n",
       "      <td>274.673821</td>\n",
       "      <td>213.127835</td>\n",
       "      <td>265.767860</td>\n",
       "    </tr>\n",
       "    <tr>\n",
       "      <td>1916</td>\n",
       "      <td>1916</td>\n",
       "      <td>2017_SOUTH_DAKOTA</td>\n",
       "      <td>SOUTH_DAKOTA</td>\n",
       "      <td>2017</td>\n",
       "      <td>917541.566176</td>\n",
       "      <td>9.290765e+06</td>\n",
       "      <td>7.873945e+05</td>\n",
       "      <td>4.312719e+06</td>\n",
       "      <td>4.190651e+06</td>\n",
       "      <td>9.395936e+06</td>\n",
       "      <td>...</td>\n",
       "      <td>69284.0</td>\n",
       "      <td>68324.391524</td>\n",
       "      <td>58768.074004</td>\n",
       "      <td>577954.717647</td>\n",
       "      <td>282069.084967</td>\n",
       "      <td>9.163662e+05</td>\n",
       "      <td>241.588947</td>\n",
       "      <td>286.376160</td>\n",
       "      <td>221.750123</td>\n",
       "      <td>259.753002</td>\n",
       "    </tr>\n",
       "    <tr>\n",
       "      <td>1917</td>\n",
       "      <td>1917</td>\n",
       "      <td>2017_WEST_VIRGINIA</td>\n",
       "      <td>WEST_VIRGINIA</td>\n",
       "      <td>2017</td>\n",
       "      <td>917541.566176</td>\n",
       "      <td>9.290765e+06</td>\n",
       "      <td>7.873945e+05</td>\n",
       "      <td>4.312719e+06</td>\n",
       "      <td>4.190651e+06</td>\n",
       "      <td>9.395936e+06</td>\n",
       "      <td>...</td>\n",
       "      <td>69284.0</td>\n",
       "      <td>68324.391524</td>\n",
       "      <td>58768.074004</td>\n",
       "      <td>577954.717647</td>\n",
       "      <td>282069.084967</td>\n",
       "      <td>9.163662e+05</td>\n",
       "      <td>236.057019</td>\n",
       "      <td>273.415854</td>\n",
       "      <td>217.316396</td>\n",
       "      <td>271.617023</td>\n",
       "    </tr>\n",
       "  </tbody>\n",
       "</table>\n",
       "<p>1918 rows × 26 columns</p>\n",
       "</div>"
      ],
      "text/plain": [
       "      Unnamed: 0          PRIMARY_KEY           STATE  YEAR         ENROLL  \\\n",
       "0              0         1992_ALABAMA         ALABAMA  1992  920824.648047   \n",
       "1              1          1992_ALASKA          ALASKA  1992  920824.648047   \n",
       "2              2         1992_ARIZONA         ARIZONA  1992  920824.648047   \n",
       "3              3        1992_ARKANSAS        ARKANSAS  1992  920824.648047   \n",
       "4              4      1992_CALIFORNIA      CALIFORNIA  1992  920824.648047   \n",
       "...          ...                  ...             ...   ...            ...   \n",
       "1913        1913    2017_NORTH_DAKOTA    NORTH_DAKOTA  2017  917541.566176   \n",
       "1914        1914    2017_RHODE_ISLAND    RHODE_ISLAND  2017  917541.566176   \n",
       "1915        1915  2017_SOUTH_CAROLINA  SOUTH_CAROLINA  2017  917541.566176   \n",
       "1916        1916    2017_SOUTH_DAKOTA    SOUTH_DAKOTA  2017  917541.566176   \n",
       "1917        1917   2017_WEST_VIRGINIA   WEST_VIRGINIA  2017  917541.566176   \n",
       "\n",
       "      TOTAL_REVENUE  FEDERAL_REVENUE  STATE_REVENUE  LOCAL_REVENUE  \\\n",
       "0      2.678885e+06     3.041770e+05   1.659028e+06   7.156800e+05   \n",
       "1      1.049591e+06     1.067800e+05   7.207110e+05   2.221000e+05   \n",
       "2      3.258079e+06     2.978880e+05   1.369815e+06   1.590376e+06   \n",
       "3      1.711959e+06     1.785710e+05   9.587850e+05   5.746030e+05   \n",
       "4      2.626002e+07     2.072470e+06   1.654651e+07   7.641041e+06   \n",
       "...             ...              ...            ...            ...   \n",
       "1913   9.290765e+06     7.873945e+05   4.312719e+06   4.190651e+06   \n",
       "1914   9.290765e+06     7.873945e+05   4.312719e+06   4.190651e+06   \n",
       "1915   9.290765e+06     7.873945e+05   4.312719e+06   4.190651e+06   \n",
       "1916   9.290765e+06     7.873945e+05   4.312719e+06   4.190651e+06   \n",
       "1917   9.290765e+06     7.873945e+05   4.312719e+06   4.190651e+06   \n",
       "\n",
       "      TOTAL_EXPENDITURE  ...  GRADES_4_G     GRADES_8_G    GRADES_12_G  \\\n",
       "0          2.653798e+06  ...     57948.0   58025.000000   41167.000000   \n",
       "1          9.724880e+05  ...      9748.0    8789.000000    6714.000000   \n",
       "2          3.401580e+06  ...     55433.0   49081.000000   37410.000000   \n",
       "3          1.743022e+06  ...     34632.0   36011.000000   27651.000000   \n",
       "4          2.713883e+07  ...    418418.0  363296.000000  270675.000000   \n",
       "...                 ...  ...         ...            ...            ...   \n",
       "1913       9.395936e+06  ...     69284.0   68324.391524   58768.074004   \n",
       "1914       9.395936e+06  ...     69284.0   68324.391524   58768.074004   \n",
       "1915       9.395936e+06  ...     69284.0   68324.391524   58768.074004   \n",
       "1916       9.395936e+06  ...     69284.0   68324.391524   58768.074004   \n",
       "1917       9.395936e+06  ...     69284.0   68324.391524   58768.074004   \n",
       "\n",
       "       GRADES_1_8_G  GRADES_9_12_G  GRADES_ALL_G  AVG_MATH_4_SCORE  \\\n",
       "0     577954.717647  282069.084967  7.316340e+05        208.327876   \n",
       "1     577954.717647  282069.084967  1.224870e+05               NaN   \n",
       "2     577954.717647  282069.084967  6.734770e+05        215.253932   \n",
       "3     577954.717647  282069.084967  4.414900e+05        210.206028   \n",
       "4     577954.717647  282069.084967  5.254844e+06        208.398961   \n",
       "...             ...            ...           ...               ...   \n",
       "1913  577954.717647  282069.084967  9.163662e+05        244.243515   \n",
       "1914  577954.717647  282069.084967  9.163662e+05        237.554934   \n",
       "1915  577954.717647  282069.084967  9.163662e+05        234.043993   \n",
       "1916  577954.717647  282069.084967  9.163662e+05        241.588947   \n",
       "1917  577954.717647  282069.084967  9.163662e+05        236.057019   \n",
       "\n",
       "      AVG_MATH_8_SCORE  AVG_READING_4_SCORE  AVG_READING_8_SCORE  \n",
       "0           252.187522           207.963517                  NaN  \n",
       "1                  NaN                  NaN           258.859712  \n",
       "2           265.366278           206.212716           262.169895  \n",
       "3           256.312090           208.634458           264.619665  \n",
       "4           260.892247           196.764414                  NaN  \n",
       "...                ...                  ...                  ...  \n",
       "1913        288.172322           221.519266           262.720477  \n",
       "1914        277.180126           223.353443           269.553823  \n",
       "1915        274.673821           213.127835           265.767860  \n",
       "1916        286.376160           221.750123           259.753002  \n",
       "1917        273.415854           217.316396           271.617023  \n",
       "\n",
       "[1918 rows x 26 columns]"
      ]
     },
     "execution_count": 2,
     "metadata": {},
     "output_type": "execute_result"
    }
   ],
   "source": [
    "df= pd.read_csv('Years_states_all.csv')\n",
    "df"
   ]
  },
  {
   "cell_type": "code",
   "execution_count": 3,
   "metadata": {},
   "outputs": [
    {
     "data": {
      "text/html": [
       "<div>\n",
       "<style scoped>\n",
       "    .dataframe tbody tr th:only-of-type {\n",
       "        vertical-align: middle;\n",
       "    }\n",
       "\n",
       "    .dataframe tbody tr th {\n",
       "        vertical-align: top;\n",
       "    }\n",
       "\n",
       "    .dataframe thead th {\n",
       "        text-align: right;\n",
       "    }\n",
       "</style>\n",
       "<table border=\"1\" class=\"dataframe\">\n",
       "  <thead>\n",
       "    <tr style=\"text-align: right;\">\n",
       "      <th></th>\n",
       "      <th>count</th>\n",
       "      <th>mean</th>\n",
       "      <th>std</th>\n",
       "      <th>min</th>\n",
       "      <th>25%</th>\n",
       "      <th>50%</th>\n",
       "      <th>75%</th>\n",
       "      <th>max</th>\n",
       "    </tr>\n",
       "  </thead>\n",
       "  <tbody>\n",
       "    <tr>\n",
       "      <td>Unnamed: 0</td>\n",
       "      <td>1918.0</td>\n",
       "      <td>9.585000e+02</td>\n",
       "      <td>5.538232e+02</td>\n",
       "      <td>0.000000</td>\n",
       "      <td>4.792500e+02</td>\n",
       "      <td>9.585000e+02</td>\n",
       "      <td>1.437750e+03</td>\n",
       "      <td>1.917000e+03</td>\n",
       "    </tr>\n",
       "    <tr>\n",
       "      <td>YEAR</td>\n",
       "      <td>1918.0</td>\n",
       "      <td>2.001947e+03</td>\n",
       "      <td>9.061480e+00</td>\n",
       "      <td>1986.000000</td>\n",
       "      <td>1.994000e+03</td>\n",
       "      <td>2.002000e+03</td>\n",
       "      <td>2.010000e+03</td>\n",
       "      <td>2.017000e+03</td>\n",
       "    </tr>\n",
       "    <tr>\n",
       "      <td>ENROLL</td>\n",
       "      <td>1918.0</td>\n",
       "      <td>9.176477e+05</td>\n",
       "      <td>8.518614e+05</td>\n",
       "      <td>43866.000000</td>\n",
       "      <td>4.887628e+05</td>\n",
       "      <td>9.175416e+05</td>\n",
       "      <td>9.175416e+05</td>\n",
       "      <td>6.307022e+06</td>\n",
       "    </tr>\n",
       "    <tr>\n",
       "      <td>TOTAL_REVENUE</td>\n",
       "      <td>1918.0</td>\n",
       "      <td>9.138254e+06</td>\n",
       "      <td>9.593333e+06</td>\n",
       "      <td>465650.000000</td>\n",
       "      <td>3.477665e+06</td>\n",
       "      <td>9.290765e+06</td>\n",
       "      <td>9.290765e+06</td>\n",
       "      <td>8.921726e+07</td>\n",
       "    </tr>\n",
       "    <tr>\n",
       "      <td>FEDERAL_REVENUE</td>\n",
       "      <td>1918.0</td>\n",
       "      <td>7.715432e+05</td>\n",
       "      <td>9.357878e+05</td>\n",
       "      <td>31020.000000</td>\n",
       "      <td>2.960315e+05</td>\n",
       "      <td>7.873945e+05</td>\n",
       "      <td>7.873945e+05</td>\n",
       "      <td>9.990221e+06</td>\n",
       "    </tr>\n",
       "    <tr>\n",
       "      <td>STATE_REVENUE</td>\n",
       "      <td>1918.0</td>\n",
       "      <td>4.240814e+06</td>\n",
       "      <td>4.527390e+06</td>\n",
       "      <td>0.000000</td>\n",
       "      <td>1.885668e+06</td>\n",
       "      <td>4.312719e+06</td>\n",
       "      <td>4.312719e+06</td>\n",
       "      <td>5.090457e+07</td>\n",
       "    </tr>\n",
       "    <tr>\n",
       "      <td>LOCAL_REVENUE</td>\n",
       "      <td>1918.0</td>\n",
       "      <td>4.125896e+06</td>\n",
       "      <td>4.477769e+06</td>\n",
       "      <td>22093.000000</td>\n",
       "      <td>1.312789e+06</td>\n",
       "      <td>4.190651e+06</td>\n",
       "      <td>4.190651e+06</td>\n",
       "      <td>3.610526e+07</td>\n",
       "    </tr>\n",
       "    <tr>\n",
       "      <td>TOTAL_EXPENDITURE</td>\n",
       "      <td>1918.0</td>\n",
       "      <td>9.242638e+06</td>\n",
       "      <td>9.783356e+06</td>\n",
       "      <td>481665.000000</td>\n",
       "      <td>3.491702e+06</td>\n",
       "      <td>9.395936e+06</td>\n",
       "      <td>9.395936e+06</td>\n",
       "      <td>8.532013e+07</td>\n",
       "    </tr>\n",
       "    <tr>\n",
       "      <td>INSTRUCTION_EXPENDITURE</td>\n",
       "      <td>1918.0</td>\n",
       "      <td>4.786510e+06</td>\n",
       "      <td>5.139591e+06</td>\n",
       "      <td>265549.000000</td>\n",
       "      <td>1.801796e+06</td>\n",
       "      <td>4.864428e+06</td>\n",
       "      <td>4.864428e+06</td>\n",
       "      <td>4.396452e+07</td>\n",
       "    </tr>\n",
       "    <tr>\n",
       "      <td>SUPPORT_SERVICES_EXPENDITURE</td>\n",
       "      <td>1918.0</td>\n",
       "      <td>2.693079e+06</td>\n",
       "      <td>2.738826e+06</td>\n",
       "      <td>139963.000000</td>\n",
       "      <td>1.023520e+06</td>\n",
       "      <td>2.737271e+06</td>\n",
       "      <td>2.737271e+06</td>\n",
       "      <td>2.605802e+07</td>\n",
       "    </tr>\n",
       "    <tr>\n",
       "      <td>OTHER_EXPENDITURE</td>\n",
       "      <td>1918.0</td>\n",
       "      <td>4.301179e+05</td>\n",
       "      <td>4.271554e+05</td>\n",
       "      <td>11541.000000</td>\n",
       "      <td>1.915038e+05</td>\n",
       "      <td>4.299509e+05</td>\n",
       "      <td>4.299509e+05</td>\n",
       "      <td>3.995951e+06</td>\n",
       "    </tr>\n",
       "    <tr>\n",
       "      <td>CAPITAL_OUTLAY_EXPENDITURE</td>\n",
       "      <td>1918.0</td>\n",
       "      <td>9.074524e+05</td>\n",
       "      <td>1.084526e+06</td>\n",
       "      <td>12708.000000</td>\n",
       "      <td>3.188615e+05</td>\n",
       "      <td>9.242366e+05</td>\n",
       "      <td>9.242366e+05</td>\n",
       "      <td>1.022366e+07</td>\n",
       "    </tr>\n",
       "    <tr>\n",
       "      <td>GRADES_PK_G</td>\n",
       "      <td>1918.0</td>\n",
       "      <td>1.784176e+04</td>\n",
       "      <td>2.691958e+04</td>\n",
       "      <td>96.000000</td>\n",
       "      <td>2.933250e+03</td>\n",
       "      <td>1.289700e+04</td>\n",
       "      <td>1.810065e+04</td>\n",
       "      <td>2.562220e+05</td>\n",
       "    </tr>\n",
       "    <tr>\n",
       "      <td>GRADES_KG_G</td>\n",
       "      <td>1918.0</td>\n",
       "      <td>6.880668e+04</td>\n",
       "      <td>7.441097e+04</td>\n",
       "      <td>5122.000000</td>\n",
       "      <td>2.284725e+04</td>\n",
       "      <td>5.864900e+04</td>\n",
       "      <td>7.064125e+04</td>\n",
       "      <td>5.353790e+05</td>\n",
       "    </tr>\n",
       "    <tr>\n",
       "      <td>GRADES_4_G</td>\n",
       "      <td>1918.0</td>\n",
       "      <td>6.916246e+04</td>\n",
       "      <td>7.375321e+04</td>\n",
       "      <td>4577.000000</td>\n",
       "      <td>2.280525e+04</td>\n",
       "      <td>5.947100e+04</td>\n",
       "      <td>7.191025e+04</td>\n",
       "      <td>4.934150e+05</td>\n",
       "    </tr>\n",
       "    <tr>\n",
       "      <td>GRADES_8_G</td>\n",
       "      <td>1918.0</td>\n",
       "      <td>6.809904e+04</td>\n",
       "      <td>7.191701e+04</td>\n",
       "      <td>3371.000000</td>\n",
       "      <td>2.284150e+04</td>\n",
       "      <td>5.778300e+04</td>\n",
       "      <td>7.209900e+04</td>\n",
       "      <td>5.001430e+05</td>\n",
       "    </tr>\n",
       "    <tr>\n",
       "      <td>GRADES_12_G</td>\n",
       "      <td>1918.0</td>\n",
       "      <td>5.840892e+04</td>\n",
       "      <td>6.221030e+04</td>\n",
       "      <td>2572.000000</td>\n",
       "      <td>1.989425e+04</td>\n",
       "      <td>4.765757e+04</td>\n",
       "      <td>6.471000e+04</td>\n",
       "      <td>4.984030e+05</td>\n",
       "    </tr>\n",
       "    <tr>\n",
       "      <td>GRADES_1_8_G</td>\n",
       "      <td>1918.0</td>\n",
       "      <td>5.779547e+05</td>\n",
       "      <td>4.927013e+05</td>\n",
       "      <td>37698.000000</td>\n",
       "      <td>3.738560e+05</td>\n",
       "      <td>5.779547e+05</td>\n",
       "      <td>5.779547e+05</td>\n",
       "      <td>3.929869e+06</td>\n",
       "    </tr>\n",
       "    <tr>\n",
       "      <td>GRADES_9_12_G</td>\n",
       "      <td>1918.0</td>\n",
       "      <td>2.820691e+05</td>\n",
       "      <td>2.470745e+05</td>\n",
       "      <td>13530.000000</td>\n",
       "      <td>1.726008e+05</td>\n",
       "      <td>2.820691e+05</td>\n",
       "      <td>2.820691e+05</td>\n",
       "      <td>2.013687e+06</td>\n",
       "    </tr>\n",
       "    <tr>\n",
       "      <td>GRADES_ALL_G</td>\n",
       "      <td>1918.0</td>\n",
       "      <td>9.138870e+05</td>\n",
       "      <td>9.739648e+05</td>\n",
       "      <td>68449.000000</td>\n",
       "      <td>3.022870e+05</td>\n",
       "      <td>7.725005e+05</td>\n",
       "      <td>9.558178e+05</td>\n",
       "      <td>6.441557e+06</td>\n",
       "    </tr>\n",
       "    <tr>\n",
       "      <td>AVG_MATH_4_SCORE</td>\n",
       "      <td>535.0</td>\n",
       "      <td>2.347973e+02</td>\n",
       "      <td>1.020900e+01</td>\n",
       "      <td>187.134670</td>\n",
       "      <td>2.297525e+02</td>\n",
       "      <td>2.372648e+02</td>\n",
       "      <td>2.420001e+02</td>\n",
       "      <td>2.534210e+02</td>\n",
       "    </tr>\n",
       "    <tr>\n",
       "      <td>AVG_MATH_8_SCORE</td>\n",
       "      <td>531.0</td>\n",
       "      <td>2.784615e+02</td>\n",
       "      <td>1.011189e+01</td>\n",
       "      <td>232.831510</td>\n",
       "      <td>2.727658e+02</td>\n",
       "      <td>2.806195e+02</td>\n",
       "      <td>2.854113e+02</td>\n",
       "      <td>3.005682e+02</td>\n",
       "    </tr>\n",
       "    <tr>\n",
       "      <td>AVG_READING_4_SCORE</td>\n",
       "      <td>532.0</td>\n",
       "      <td>2.188979e+02</td>\n",
       "      <td>7.742281e+00</td>\n",
       "      <td>178.557612</td>\n",
       "      <td>2.147412e+02</td>\n",
       "      <td>2.204424e+02</td>\n",
       "      <td>2.240053e+02</td>\n",
       "      <td>2.367739e+02</td>\n",
       "    </tr>\n",
       "    <tr>\n",
       "      <td>AVG_READING_8_SCORE</td>\n",
       "      <td>497.0</td>\n",
       "      <td>2.636833e+02</td>\n",
       "      <td>6.792513e+00</td>\n",
       "      <td>236.379102</td>\n",
       "      <td>2.595472e+02</td>\n",
       "      <td>2.650229e+02</td>\n",
       "      <td>2.681974e+02</td>\n",
       "      <td>2.804991e+02</td>\n",
       "    </tr>\n",
       "  </tbody>\n",
       "</table>\n",
       "</div>"
      ],
      "text/plain": [
       "                               count          mean           std  \\\n",
       "Unnamed: 0                    1918.0  9.585000e+02  5.538232e+02   \n",
       "YEAR                          1918.0  2.001947e+03  9.061480e+00   \n",
       "ENROLL                        1918.0  9.176477e+05  8.518614e+05   \n",
       "TOTAL_REVENUE                 1918.0  9.138254e+06  9.593333e+06   \n",
       "FEDERAL_REVENUE               1918.0  7.715432e+05  9.357878e+05   \n",
       "STATE_REVENUE                 1918.0  4.240814e+06  4.527390e+06   \n",
       "LOCAL_REVENUE                 1918.0  4.125896e+06  4.477769e+06   \n",
       "TOTAL_EXPENDITURE             1918.0  9.242638e+06  9.783356e+06   \n",
       "INSTRUCTION_EXPENDITURE       1918.0  4.786510e+06  5.139591e+06   \n",
       "SUPPORT_SERVICES_EXPENDITURE  1918.0  2.693079e+06  2.738826e+06   \n",
       "OTHER_EXPENDITURE             1918.0  4.301179e+05  4.271554e+05   \n",
       "CAPITAL_OUTLAY_EXPENDITURE    1918.0  9.074524e+05  1.084526e+06   \n",
       "GRADES_PK_G                   1918.0  1.784176e+04  2.691958e+04   \n",
       "GRADES_KG_G                   1918.0  6.880668e+04  7.441097e+04   \n",
       "GRADES_4_G                    1918.0  6.916246e+04  7.375321e+04   \n",
       "GRADES_8_G                    1918.0  6.809904e+04  7.191701e+04   \n",
       "GRADES_12_G                   1918.0  5.840892e+04  6.221030e+04   \n",
       "GRADES_1_8_G                  1918.0  5.779547e+05  4.927013e+05   \n",
       "GRADES_9_12_G                 1918.0  2.820691e+05  2.470745e+05   \n",
       "GRADES_ALL_G                  1918.0  9.138870e+05  9.739648e+05   \n",
       "AVG_MATH_4_SCORE               535.0  2.347973e+02  1.020900e+01   \n",
       "AVG_MATH_8_SCORE               531.0  2.784615e+02  1.011189e+01   \n",
       "AVG_READING_4_SCORE            532.0  2.188979e+02  7.742281e+00   \n",
       "AVG_READING_8_SCORE            497.0  2.636833e+02  6.792513e+00   \n",
       "\n",
       "                                        min           25%           50%  \\\n",
       "Unnamed: 0                         0.000000  4.792500e+02  9.585000e+02   \n",
       "YEAR                            1986.000000  1.994000e+03  2.002000e+03   \n",
       "ENROLL                         43866.000000  4.887628e+05  9.175416e+05   \n",
       "TOTAL_REVENUE                 465650.000000  3.477665e+06  9.290765e+06   \n",
       "FEDERAL_REVENUE                31020.000000  2.960315e+05  7.873945e+05   \n",
       "STATE_REVENUE                      0.000000  1.885668e+06  4.312719e+06   \n",
       "LOCAL_REVENUE                  22093.000000  1.312789e+06  4.190651e+06   \n",
       "TOTAL_EXPENDITURE             481665.000000  3.491702e+06  9.395936e+06   \n",
       "INSTRUCTION_EXPENDITURE       265549.000000  1.801796e+06  4.864428e+06   \n",
       "SUPPORT_SERVICES_EXPENDITURE  139963.000000  1.023520e+06  2.737271e+06   \n",
       "OTHER_EXPENDITURE              11541.000000  1.915038e+05  4.299509e+05   \n",
       "CAPITAL_OUTLAY_EXPENDITURE     12708.000000  3.188615e+05  9.242366e+05   \n",
       "GRADES_PK_G                       96.000000  2.933250e+03  1.289700e+04   \n",
       "GRADES_KG_G                     5122.000000  2.284725e+04  5.864900e+04   \n",
       "GRADES_4_G                      4577.000000  2.280525e+04  5.947100e+04   \n",
       "GRADES_8_G                      3371.000000  2.284150e+04  5.778300e+04   \n",
       "GRADES_12_G                     2572.000000  1.989425e+04  4.765757e+04   \n",
       "GRADES_1_8_G                   37698.000000  3.738560e+05  5.779547e+05   \n",
       "GRADES_9_12_G                  13530.000000  1.726008e+05  2.820691e+05   \n",
       "GRADES_ALL_G                   68449.000000  3.022870e+05  7.725005e+05   \n",
       "AVG_MATH_4_SCORE                 187.134670  2.297525e+02  2.372648e+02   \n",
       "AVG_MATH_8_SCORE                 232.831510  2.727658e+02  2.806195e+02   \n",
       "AVG_READING_4_SCORE              178.557612  2.147412e+02  2.204424e+02   \n",
       "AVG_READING_8_SCORE              236.379102  2.595472e+02  2.650229e+02   \n",
       "\n",
       "                                       75%           max  \n",
       "Unnamed: 0                    1.437750e+03  1.917000e+03  \n",
       "YEAR                          2.010000e+03  2.017000e+03  \n",
       "ENROLL                        9.175416e+05  6.307022e+06  \n",
       "TOTAL_REVENUE                 9.290765e+06  8.921726e+07  \n",
       "FEDERAL_REVENUE               7.873945e+05  9.990221e+06  \n",
       "STATE_REVENUE                 4.312719e+06  5.090457e+07  \n",
       "LOCAL_REVENUE                 4.190651e+06  3.610526e+07  \n",
       "TOTAL_EXPENDITURE             9.395936e+06  8.532013e+07  \n",
       "INSTRUCTION_EXPENDITURE       4.864428e+06  4.396452e+07  \n",
       "SUPPORT_SERVICES_EXPENDITURE  2.737271e+06  2.605802e+07  \n",
       "OTHER_EXPENDITURE             4.299509e+05  3.995951e+06  \n",
       "CAPITAL_OUTLAY_EXPENDITURE    9.242366e+05  1.022366e+07  \n",
       "GRADES_PK_G                   1.810065e+04  2.562220e+05  \n",
       "GRADES_KG_G                   7.064125e+04  5.353790e+05  \n",
       "GRADES_4_G                    7.191025e+04  4.934150e+05  \n",
       "GRADES_8_G                    7.209900e+04  5.001430e+05  \n",
       "GRADES_12_G                   6.471000e+04  4.984030e+05  \n",
       "GRADES_1_8_G                  5.779547e+05  3.929869e+06  \n",
       "GRADES_9_12_G                 2.820691e+05  2.013687e+06  \n",
       "GRADES_ALL_G                  9.558178e+05  6.441557e+06  \n",
       "AVG_MATH_4_SCORE              2.420001e+02  2.534210e+02  \n",
       "AVG_MATH_8_SCORE              2.854113e+02  3.005682e+02  \n",
       "AVG_READING_4_SCORE           2.240053e+02  2.367739e+02  \n",
       "AVG_READING_8_SCORE           2.681974e+02  2.804991e+02  "
      ]
     },
     "execution_count": 3,
     "metadata": {},
     "output_type": "execute_result"
    }
   ],
   "source": [
    "df.describe().T"
   ]
  },
  {
   "cell_type": "code",
   "execution_count": null,
   "metadata": {},
   "outputs": [],
   "source": [
    "df.drop('Unnamed: 0', axis=1,inplace=True)"
   ]
  },
  {
   "cell_type": "code",
   "execution_count": 4,
   "metadata": {},
   "outputs": [
    {
     "data": {
      "text/html": [
       "<div>\n",
       "<style scoped>\n",
       "    .dataframe tbody tr th:only-of-type {\n",
       "        vertical-align: middle;\n",
       "    }\n",
       "\n",
       "    .dataframe tbody tr th {\n",
       "        vertical-align: top;\n",
       "    }\n",
       "\n",
       "    .dataframe thead th {\n",
       "        text-align: right;\n",
       "    }\n",
       "</style>\n",
       "<table border=\"1\" class=\"dataframe\">\n",
       "  <thead>\n",
       "    <tr style=\"text-align: right;\">\n",
       "      <th></th>\n",
       "      <th>Unnamed: 0</th>\n",
       "      <th>PRIMARY_KEY</th>\n",
       "      <th>STATE</th>\n",
       "      <th>YEAR</th>\n",
       "      <th>ENROLL</th>\n",
       "      <th>TOTAL_REVENUE</th>\n",
       "      <th>FEDERAL_REVENUE</th>\n",
       "      <th>STATE_REVENUE</th>\n",
       "      <th>LOCAL_REVENUE</th>\n",
       "      <th>TOTAL_EXPENDITURE</th>\n",
       "      <th>...</th>\n",
       "      <th>GRADES_4_G</th>\n",
       "      <th>GRADES_8_G</th>\n",
       "      <th>GRADES_12_G</th>\n",
       "      <th>GRADES_1_8_G</th>\n",
       "      <th>GRADES_9_12_G</th>\n",
       "      <th>GRADES_ALL_G</th>\n",
       "      <th>AVG_MATH_4_SCORE</th>\n",
       "      <th>AVG_MATH_8_SCORE</th>\n",
       "      <th>AVG_READING_4_SCORE</th>\n",
       "      <th>AVG_READING_8_SCORE</th>\n",
       "    </tr>\n",
       "  </thead>\n",
       "  <tbody>\n",
       "    <tr>\n",
       "      <td>0</td>\n",
       "      <td>0</td>\n",
       "      <td>1992_ALABAMA</td>\n",
       "      <td>ALABAMA</td>\n",
       "      <td>1992</td>\n",
       "      <td>920824.648047</td>\n",
       "      <td>2678885.0</td>\n",
       "      <td>304177.0</td>\n",
       "      <td>1659028.0</td>\n",
       "      <td>715680.0</td>\n",
       "      <td>2653798.0</td>\n",
       "      <td>...</td>\n",
       "      <td>57948.0</td>\n",
       "      <td>58025.0</td>\n",
       "      <td>41167.0</td>\n",
       "      <td>577954.717647</td>\n",
       "      <td>282069.084967</td>\n",
       "      <td>731634.0</td>\n",
       "      <td>208.327876</td>\n",
       "      <td>252.187522</td>\n",
       "      <td>207.963517</td>\n",
       "      <td>NaN</td>\n",
       "    </tr>\n",
       "    <tr>\n",
       "      <td>1</td>\n",
       "      <td>1</td>\n",
       "      <td>1992_ALASKA</td>\n",
       "      <td>ALASKA</td>\n",
       "      <td>1992</td>\n",
       "      <td>920824.648047</td>\n",
       "      <td>1049591.0</td>\n",
       "      <td>106780.0</td>\n",
       "      <td>720711.0</td>\n",
       "      <td>222100.0</td>\n",
       "      <td>972488.0</td>\n",
       "      <td>...</td>\n",
       "      <td>9748.0</td>\n",
       "      <td>8789.0</td>\n",
       "      <td>6714.0</td>\n",
       "      <td>577954.717647</td>\n",
       "      <td>282069.084967</td>\n",
       "      <td>122487.0</td>\n",
       "      <td>NaN</td>\n",
       "      <td>NaN</td>\n",
       "      <td>NaN</td>\n",
       "      <td>258.859712</td>\n",
       "    </tr>\n",
       "    <tr>\n",
       "      <td>2</td>\n",
       "      <td>2</td>\n",
       "      <td>1992_ARIZONA</td>\n",
       "      <td>ARIZONA</td>\n",
       "      <td>1992</td>\n",
       "      <td>920824.648047</td>\n",
       "      <td>3258079.0</td>\n",
       "      <td>297888.0</td>\n",
       "      <td>1369815.0</td>\n",
       "      <td>1590376.0</td>\n",
       "      <td>3401580.0</td>\n",
       "      <td>...</td>\n",
       "      <td>55433.0</td>\n",
       "      <td>49081.0</td>\n",
       "      <td>37410.0</td>\n",
       "      <td>577954.717647</td>\n",
       "      <td>282069.084967</td>\n",
       "      <td>673477.0</td>\n",
       "      <td>215.253932</td>\n",
       "      <td>265.366278</td>\n",
       "      <td>206.212716</td>\n",
       "      <td>262.169895</td>\n",
       "    </tr>\n",
       "    <tr>\n",
       "      <td>3</td>\n",
       "      <td>3</td>\n",
       "      <td>1992_ARKANSAS</td>\n",
       "      <td>ARKANSAS</td>\n",
       "      <td>1992</td>\n",
       "      <td>920824.648047</td>\n",
       "      <td>1711959.0</td>\n",
       "      <td>178571.0</td>\n",
       "      <td>958785.0</td>\n",
       "      <td>574603.0</td>\n",
       "      <td>1743022.0</td>\n",
       "      <td>...</td>\n",
       "      <td>34632.0</td>\n",
       "      <td>36011.0</td>\n",
       "      <td>27651.0</td>\n",
       "      <td>577954.717647</td>\n",
       "      <td>282069.084967</td>\n",
       "      <td>441490.0</td>\n",
       "      <td>210.206028</td>\n",
       "      <td>256.312090</td>\n",
       "      <td>208.634458</td>\n",
       "      <td>264.619665</td>\n",
       "    </tr>\n",
       "    <tr>\n",
       "      <td>4</td>\n",
       "      <td>4</td>\n",
       "      <td>1992_CALIFORNIA</td>\n",
       "      <td>CALIFORNIA</td>\n",
       "      <td>1992</td>\n",
       "      <td>920824.648047</td>\n",
       "      <td>26260025.0</td>\n",
       "      <td>2072470.0</td>\n",
       "      <td>16546514.0</td>\n",
       "      <td>7641041.0</td>\n",
       "      <td>27138832.0</td>\n",
       "      <td>...</td>\n",
       "      <td>418418.0</td>\n",
       "      <td>363296.0</td>\n",
       "      <td>270675.0</td>\n",
       "      <td>577954.717647</td>\n",
       "      <td>282069.084967</td>\n",
       "      <td>5254844.0</td>\n",
       "      <td>208.398961</td>\n",
       "      <td>260.892247</td>\n",
       "      <td>196.764414</td>\n",
       "      <td>NaN</td>\n",
       "    </tr>\n",
       "  </tbody>\n",
       "</table>\n",
       "<p>5 rows × 26 columns</p>\n",
       "</div>"
      ],
      "text/plain": [
       "   Unnamed: 0      PRIMARY_KEY       STATE  YEAR         ENROLL  \\\n",
       "0           0     1992_ALABAMA     ALABAMA  1992  920824.648047   \n",
       "1           1      1992_ALASKA      ALASKA  1992  920824.648047   \n",
       "2           2     1992_ARIZONA     ARIZONA  1992  920824.648047   \n",
       "3           3    1992_ARKANSAS    ARKANSAS  1992  920824.648047   \n",
       "4           4  1992_CALIFORNIA  CALIFORNIA  1992  920824.648047   \n",
       "\n",
       "   TOTAL_REVENUE  FEDERAL_REVENUE  STATE_REVENUE  LOCAL_REVENUE  \\\n",
       "0      2678885.0         304177.0      1659028.0       715680.0   \n",
       "1      1049591.0         106780.0       720711.0       222100.0   \n",
       "2      3258079.0         297888.0      1369815.0      1590376.0   \n",
       "3      1711959.0         178571.0       958785.0       574603.0   \n",
       "4     26260025.0        2072470.0     16546514.0      7641041.0   \n",
       "\n",
       "   TOTAL_EXPENDITURE  ...  GRADES_4_G  GRADES_8_G  GRADES_12_G   GRADES_1_8_G  \\\n",
       "0          2653798.0  ...     57948.0     58025.0      41167.0  577954.717647   \n",
       "1           972488.0  ...      9748.0      8789.0       6714.0  577954.717647   \n",
       "2          3401580.0  ...     55433.0     49081.0      37410.0  577954.717647   \n",
       "3          1743022.0  ...     34632.0     36011.0      27651.0  577954.717647   \n",
       "4         27138832.0  ...    418418.0    363296.0     270675.0  577954.717647   \n",
       "\n",
       "   GRADES_9_12_G  GRADES_ALL_G  AVG_MATH_4_SCORE  AVG_MATH_8_SCORE  \\\n",
       "0  282069.084967      731634.0        208.327876        252.187522   \n",
       "1  282069.084967      122487.0               NaN               NaN   \n",
       "2  282069.084967      673477.0        215.253932        265.366278   \n",
       "3  282069.084967      441490.0        210.206028        256.312090   \n",
       "4  282069.084967     5254844.0        208.398961        260.892247   \n",
       "\n",
       "   AVG_READING_4_SCORE  AVG_READING_8_SCORE  \n",
       "0           207.963517                  NaN  \n",
       "1                  NaN           258.859712  \n",
       "2           206.212716           262.169895  \n",
       "3           208.634458           264.619665  \n",
       "4           196.764414                  NaN  \n",
       "\n",
       "[5 rows x 26 columns]"
      ]
     },
     "execution_count": 4,
     "metadata": {},
     "output_type": "execute_result"
    }
   ],
   "source": [
    "df.head()"
   ]
  },
  {
   "cell_type": "code",
   "execution_count": 5,
   "metadata": {},
   "outputs": [],
   "source": [
    "copy_1=df.copy()\n",
    "copy_2=df.copy()"
   ]
  },
  {
   "cell_type": "code",
   "execution_count": 6,
   "metadata": {},
   "outputs": [
    {
     "data": {
      "image/png": "[encoded data removed]",
      "text/plain": [
       "<Figure size 864x360 with 2 Axes>"
      ]
     },
     "metadata": {
      "needs_background": "light"
     },
     "output_type": "display_data"
    }
   ],
   "source": [
    "plt.figure(figsize=(12,5))\n",
    "\n",
    "plt.subplot(1,2,1)\n",
    "plt.hist(df['TOTAL_REVENUE'])\n",
    "plt.title('TOTAL_REVENUE Histogram Grafiği')\n",
    "\n",
    "plt.subplot(1,2,2)\n",
    "plt.hist(df['TOTAL_EXPENDITURE'])\n",
    "plt.title(\"TOTAL_EXPENDITURE Histogram Grafiği\")\n",
    "plt.show()"
   ]
  },
  {
   "cell_type": "code",
   "execution_count": 7,
   "metadata": {},
   "outputs": [
    {
     "data": {
      "image/png": "[encoded data removed]",
      "text/plain": [
       "<Figure size 864x360 with 2 Axes>"
      ]
     },
     "metadata": {
      "needs_background": "light"
     },
     "output_type": "display_data"
    }
   ],
   "source": [
    "plt.figure(figsize=(12,5))\n",
    "\n",
    "plt.subplot(1,2,1)\n",
    "plt.boxplot(df['TOTAL_REVENUE'],whis=1.5)\n",
    "plt.title('TOTAL_REVENUE boxplot Grafiği (whis=1.5)')\n",
    "\n",
    "plt.subplot(1,2,2)\n",
    "plt.title(\"TOTAL_EXPENDITURE boxplot Grafiği(whis=1.5)\")\n",
    "plt.boxplot(df['TOTAL_EXPENDITURE'],whis=1.5)\n",
    "plt.show()"
   ]
  },
  {
   "cell_type": "code",
   "execution_count": 8,
   "metadata": {},
   "outputs": [
    {
     "name": "stdout",
     "output_type": "stream",
     "text": [
      "Revenue Eşik değeri: 1\n",
      "Aykırı değerlerin sayısı: 154\n",
      "------\n",
      "Revenue Eşik değeri: 2\n",
      "Aykırı değerlerin sayısı: 73\n",
      "------\n",
      "Revenue Eşik değeri: 3\n",
      "Aykırı değerlerin sayısı: 44\n",
      "------\n",
      "Revenue Eşik değeri: 4\n",
      "Aykırı değerlerin sayısı: 34\n",
      "------\n",
      "\n",
      "\n",
      "Expenditure Eşik değeri: 1\n",
      "Aykırı değerlerin sayısı: 157\n",
      "------\n",
      "Expenditure Eşik değeri: 2\n",
      "Aykırı değerlerin sayısı: 71\n",
      "------\n",
      "Expenditure Eşik değeri: 3\n",
      "Aykırı değerlerin sayısı: 45\n",
      "------\n",
      "Expenditure Eşik değeri: 4\n",
      "Aykırı değerlerin sayısı: 35\n",
      "------\n"
     ]
    }
   ],
   "source": [
    "# z-score bakalım \n",
    "\n",
    "from scipy.stats import zscore\n",
    "\n",
    "z_score_revenue= zscore(df['TOTAL_REVENUE'])\n",
    "z_score_expenditure= zscore(df['TOTAL_EXPENDITURE'])\n",
    "\n",
    "for threshold_revenue in range(1,5):\n",
    "    print(\"Revenue Eşik değeri: {}\".format(threshold_revenue))\n",
    "    print(\"Aykırı değerlerin sayısı: {}\".format(len((np.where(z_score_revenue > threshold_revenue)[0]))))\n",
    "    print('------')\n",
    "print('\\n') \n",
    "for threshold_expenditure in range(1,5):\n",
    "    print(\"Expenditure Eşik değeri: {}\".format(threshold_expenditure))\n",
    "    print(\"Aykırı değerlerin sayısı: {}\".format(len((np.where(z_score_expenditure > threshold_expenditure)[0]))))\n",
    "    print('------')\n"
   ]
  },
  {
   "cell_type": "code",
   "execution_count": 9,
   "metadata": {},
   "outputs": [
    {
     "name": "stdout",
     "output_type": "stream",
     "text": [
      "Revenue: [(154, 1), (73, 2), (44, 3), (34, 4)]\n",
      "\n",
      "\n",
      "Expenditure: [(157, 1), (71, 2), (45, 3), (35, 4)]\n"
     ]
    }
   ],
   "source": [
    "from scipy.stats import zscore\n",
    "\n",
    "z_score_revenue= zscore(df['TOTAL_REVENUE'])\n",
    "z_score_expenditure= zscore(df['TOTAL_EXPENDITURE'])\n",
    "liste_revenue = []\n",
    "liste_expenditure =[]\n",
    "\n",
    "for threshold_revenue in np.arange(1,5):\n",
    "    #print(\"Revenue Eşik değeri: {}\".format(threshold_revenue))\n",
    "    #print(\"Aykırı değerlerin sayısı: {}\".format(len((np.where(z_score_revenue > threshold_revenue)[0]))))\n",
    "    liste_revenue.append((len((np.where(z_score_revenue > threshold_revenue)[0])),threshold_revenue))\n",
    "    #print('------')\n",
    "print(\"Revenue:\",liste_revenue)\n",
    "print('\\n') \n",
    "for threshold_expenditure in np.arange(1,5):\n",
    "    #print(\"Expenditure Eşik değeri: {}\".format(threshold_expenditure))\n",
    "    #print(\"Aykırı değerlerin sayısı: {}\".format(len((np.where(z_score_expenditure > threshold_expenditure)[0]))))\n",
    "    #print('------')\n",
    "    liste_expenditure.append((len((np.where(z_score_expenditure > threshold_expenditure)[0])),threshold_expenditure))\n",
    "print(\"Expenditure:\",liste_expenditure)"
   ]
  },
  {
   "cell_type": "code",
   "execution_count": 10,
   "metadata": {},
   "outputs": [],
   "source": [
    "Revenue_esik=pd.DataFrame(liste_revenue,columns=['Adet',\"Esik_Degeri\"])\n",
    "Expenditure_esik=pd.DataFrame(liste_expenditure,columns=['Adet',\"Esik_Degeri\"])"
   ]
  },
  {
   "cell_type": "code",
   "execution_count": 11,
   "metadata": {},
   "outputs": [
    {
     "data": {
      "text/html": [
       "<div>\n",
       "<style scoped>\n",
       "    .dataframe tbody tr th:only-of-type {\n",
       "        vertical-align: middle;\n",
       "    }\n",
       "\n",
       "    .dataframe tbody tr th {\n",
       "        vertical-align: top;\n",
       "    }\n",
       "\n",
       "    .dataframe thead th {\n",
       "        text-align: right;\n",
       "    }\n",
       "</style>\n",
       "<table border=\"1\" class=\"dataframe\">\n",
       "  <thead>\n",
       "    <tr style=\"text-align: right;\">\n",
       "      <th></th>\n",
       "      <th>Adet</th>\n",
       "      <th>Esik_Degeri</th>\n",
       "    </tr>\n",
       "  </thead>\n",
       "  <tbody>\n",
       "    <tr>\n",
       "      <td>0</td>\n",
       "      <td>154</td>\n",
       "      <td>1</td>\n",
       "    </tr>\n",
       "    <tr>\n",
       "      <td>1</td>\n",
       "      <td>73</td>\n",
       "      <td>2</td>\n",
       "    </tr>\n",
       "    <tr>\n",
       "      <td>2</td>\n",
       "      <td>44</td>\n",
       "      <td>3</td>\n",
       "    </tr>\n",
       "    <tr>\n",
       "      <td>3</td>\n",
       "      <td>34</td>\n",
       "      <td>4</td>\n",
       "    </tr>\n",
       "  </tbody>\n",
       "</table>\n",
       "</div>"
      ],
      "text/plain": [
       "   Adet  Esik_Degeri\n",
       "0   154            1\n",
       "1    73            2\n",
       "2    44            3\n",
       "3    34            4"
      ]
     },
     "execution_count": 11,
     "metadata": {},
     "output_type": "execute_result"
    }
   ],
   "source": [
    "Revenue_esik"
   ]
  },
  {
   "cell_type": "code",
   "execution_count": 12,
   "metadata": {},
   "outputs": [
    {
     "data": {
      "text/html": [
       "<div>\n",
       "<style scoped>\n",
       "    .dataframe tbody tr th:only-of-type {\n",
       "        vertical-align: middle;\n",
       "    }\n",
       "\n",
       "    .dataframe tbody tr th {\n",
       "        vertical-align: top;\n",
       "    }\n",
       "\n",
       "    .dataframe thead th {\n",
       "        text-align: right;\n",
       "    }\n",
       "</style>\n",
       "<table border=\"1\" class=\"dataframe\">\n",
       "  <thead>\n",
       "    <tr style=\"text-align: right;\">\n",
       "      <th></th>\n",
       "      <th>Adet</th>\n",
       "      <th>Esik_Degeri</th>\n",
       "    </tr>\n",
       "  </thead>\n",
       "  <tbody>\n",
       "    <tr>\n",
       "      <td>0</td>\n",
       "      <td>157</td>\n",
       "      <td>1</td>\n",
       "    </tr>\n",
       "    <tr>\n",
       "      <td>1</td>\n",
       "      <td>71</td>\n",
       "      <td>2</td>\n",
       "    </tr>\n",
       "    <tr>\n",
       "      <td>2</td>\n",
       "      <td>45</td>\n",
       "      <td>3</td>\n",
       "    </tr>\n",
       "    <tr>\n",
       "      <td>3</td>\n",
       "      <td>35</td>\n",
       "      <td>4</td>\n",
       "    </tr>\n",
       "  </tbody>\n",
       "</table>\n",
       "</div>"
      ],
      "text/plain": [
       "   Adet  Esik_Degeri\n",
       "0   157            1\n",
       "1    71            2\n",
       "2    45            3\n",
       "3    35            4"
      ]
     },
     "execution_count": 12,
     "metadata": {},
     "output_type": "execute_result"
    }
   ],
   "source": [
    "Expenditure_esik"
   ]
  },
  {
   "cell_type": "code",
   "execution_count": 13,
   "metadata": {},
   "outputs": [
    {
     "data": {
      "image/png": "[encoded data removed]",
      "text/plain": [
       "<Figure size 864x360 with 2 Axes>"
      ]
     },
     "metadata": {
      "needs_background": "light"
     },
     "output_type": "display_data"
    }
   ],
   "source": [
    "plt.figure(figsize=(12,5))\n",
    "\n",
    "plt.subplot(1,2,1)\n",
    "plt.plot(Revenue_esik['Esik_Degeri'],Revenue_esik['Adet'])\n",
    "plt.title(\"TOTAL_Revenue Z-Score Aykiri Veri Grafigi\")\n",
    "\n",
    "plt.subplot(1,2,2)\n",
    "plt.plot(Expenditure_esik['Esik_Degeri'],Expenditure_esik['Adet'])\n",
    "plt.title(\"TOTAL_Expenditure Z-Score Aykiri Veri Grafigi\")\n",
    "plt.show()"
   ]
  },
  {
   "cell_type": "code",
   "execution_count": 14,
   "metadata": {},
   "outputs": [],
   "source": [
    "# Tukey Yöntemi İle bakalım (IQR)\n",
    "\n",
    "q75,q25=np.percentile(df['TOTAL_REVENUE'],[75,25])\n",
    "IQR= q75-q25"
   ]
  },
  {
   "cell_type": "code",
   "execution_count": 21,
   "metadata": {},
   "outputs": [
    {
     "data": {
      "text/plain": [
       "[(1.0, 209),\n",
       " (1.5, 169),\n",
       " (2.0, 134),\n",
       " (2.5, 110),\n",
       " (3.0, 85),\n",
       " (3.5, 64),\n",
       " (4.0, 52),\n",
       " (4.5, 48)]"
      ]
     },
     "execution_count": 21,
     "metadata": {},
     "output_type": "execute_result"
    }
   ],
   "source": [
    "esik_degerleri=[]\n",
    "\n",
    "for esik_degeri in np.arange(1,5,0.5):\n",
    "    min_deger= q25 - (IQR*esik_degeri)\n",
    "    max_deger= q75 + (IQR*esik_degeri)\n",
    "    aykiri_deger_sayisi= len((np.where((df['TOTAL_REVENUE']>max_deger)| (df['TOTAL_REVENUE']<min_deger))[0]))\n",
    "    esik_degerleri.append((esik_degeri,aykiri_deger_sayisi))\n",
    "\n",
    "esik_degerleri"
   ]
  },
  {
   "cell_type": "code",
   "execution_count": 38,
   "metadata": {},
   "outputs": [
    {
     "data": {
      "text/html": [
       "<div>\n",
       "<style scoped>\n",
       "    .dataframe tbody tr th:only-of-type {\n",
       "        vertical-align: middle;\n",
       "    }\n",
       "\n",
       "    .dataframe tbody tr th {\n",
       "        vertical-align: top;\n",
       "    }\n",
       "\n",
       "    .dataframe thead th {\n",
       "        text-align: right;\n",
       "    }\n",
       "</style>\n",
       "<table border=\"1\" class=\"dataframe\">\n",
       "  <thead>\n",
       "    <tr style=\"text-align: right;\">\n",
       "      <th></th>\n",
       "      <th>Esik_degeri</th>\n",
       "      <th>Aykiri_adet_sayisi_(IQR)</th>\n",
       "    </tr>\n",
       "  </thead>\n",
       "  <tbody>\n",
       "    <tr>\n",
       "      <td>0</td>\n",
       "      <td>1.0</td>\n",
       "      <td>203</td>\n",
       "    </tr>\n",
       "    <tr>\n",
       "      <td>1</td>\n",
       "      <td>1.5</td>\n",
       "      <td>164</td>\n",
       "    </tr>\n",
       "    <tr>\n",
       "      <td>2</td>\n",
       "      <td>2.0</td>\n",
       "      <td>134</td>\n",
       "    </tr>\n",
       "    <tr>\n",
       "      <td>3</td>\n",
       "      <td>2.5</td>\n",
       "      <td>108</td>\n",
       "    </tr>\n",
       "    <tr>\n",
       "      <td>4</td>\n",
       "      <td>3.0</td>\n",
       "      <td>88</td>\n",
       "    </tr>\n",
       "    <tr>\n",
       "      <td>5</td>\n",
       "      <td>3.5</td>\n",
       "      <td>62</td>\n",
       "    </tr>\n",
       "    <tr>\n",
       "      <td>6</td>\n",
       "      <td>4.0</td>\n",
       "      <td>54</td>\n",
       "    </tr>\n",
       "    <tr>\n",
       "      <td>7</td>\n",
       "      <td>4.5</td>\n",
       "      <td>49</td>\n",
       "    </tr>\n",
       "  </tbody>\n",
       "</table>\n",
       "</div>"
      ],
      "text/plain": [
       "   Esik_degeri  Aykiri_adet_sayisi_(IQR)\n",
       "0          1.0                       203\n",
       "1          1.5                       164\n",
       "2          2.0                       134\n",
       "3          2.5                       108\n",
       "4          3.0                        88\n",
       "5          3.5                        62\n",
       "6          4.0                        54\n",
       "7          4.5                        49"
      ]
     },
     "execution_count": 38,
     "metadata": {},
     "output_type": "execute_result"
    }
   ],
   "source": [
    "Tukey_revenue=pd.DataFrame(esik_degerleri,columns=['Esik_degeri','Aykiri_adet_sayisi_(IQR)'])\n",
    "Tukey_revenue"
   ]
  },
  {
   "cell_type": "code",
   "execution_count": 39,
   "metadata": {},
   "outputs": [
    {
     "data": {
      "image/png": "[encoded data removed]",
      "text/plain": [
       "<Figure size 432x288 with 1 Axes>"
      ]
     },
     "metadata": {
      "needs_background": "light"
     },
     "output_type": "display_data"
    }
   ],
   "source": [
    "plt.plot(Tukey_revenue['Esik_degeri'],Tukey_revenue['Aykiri_adet_sayisi_(IQR)'])\n",
    "plt.title(\"Tukey Total_revenue Aykırı değer sayıları\")\n",
    "plt.show()"
   ]
  },
  {
   "cell_type": "code",
   "execution_count": 45,
   "metadata": {},
   "outputs": [],
   "source": [
    "q75,q25=np.percentile(df['TOTAL_EXPENDITURE'],[75,25])\n",
    "iqr= q75-q25"
   ]
  },
  {
   "cell_type": "code",
   "execution_count": 46,
   "metadata": {},
   "outputs": [
    {
     "data": {
      "text/plain": [
       "[(1.0, 203),\n",
       " (1.5, 164),\n",
       " (2.0, 134),\n",
       " (2.5, 108),\n",
       " (3.0, 88),\n",
       " (3.5, 62),\n",
       " (4.0, 54),\n",
       " (4.5, 49)]"
      ]
     },
     "execution_count": 46,
     "metadata": {},
     "output_type": "execute_result"
    }
   ],
   "source": [
    "esik_degerleri=[]\n",
    "for esik_degeri in np.arange(1,5,0.5):\n",
    "    min_deger= q25 - (iqr*esik_degeri)\n",
    "    max_deger= q75 + (iqr*esik_degeri)\n",
    "    aykiri_deger_sayisi= len((np.where((df['TOTAL_EXPENDITURE']>max_deger)| (df['TOTAL_EXPENDITURE']<min_deger))[0]))\n",
    "    esik_degerleri.append((esik_degeri,aykiri_deger_sayisi))\n",
    "\n",
    "esik_degerleri"
   ]
  },
  {
   "cell_type": "code",
   "execution_count": 41,
   "metadata": {},
   "outputs": [
    {
     "data": {
      "text/html": [
       "<div>\n",
       "<style scoped>\n",
       "    .dataframe tbody tr th:only-of-type {\n",
       "        vertical-align: middle;\n",
       "    }\n",
       "\n",
       "    .dataframe tbody tr th {\n",
       "        vertical-align: top;\n",
       "    }\n",
       "\n",
       "    .dataframe thead th {\n",
       "        text-align: right;\n",
       "    }\n",
       "</style>\n",
       "<table border=\"1\" class=\"dataframe\">\n",
       "  <thead>\n",
       "    <tr style=\"text-align: right;\">\n",
       "      <th></th>\n",
       "      <th>Esik_degeri</th>\n",
       "      <th>Aykiri_DEger_sayisi</th>\n",
       "    </tr>\n",
       "  </thead>\n",
       "  <tbody>\n",
       "    <tr>\n",
       "      <td>0</td>\n",
       "      <td>1.0</td>\n",
       "      <td>203</td>\n",
       "    </tr>\n",
       "    <tr>\n",
       "      <td>1</td>\n",
       "      <td>1.5</td>\n",
       "      <td>164</td>\n",
       "    </tr>\n",
       "    <tr>\n",
       "      <td>2</td>\n",
       "      <td>2.0</td>\n",
       "      <td>134</td>\n",
       "    </tr>\n",
       "    <tr>\n",
       "      <td>3</td>\n",
       "      <td>2.5</td>\n",
       "      <td>108</td>\n",
       "    </tr>\n",
       "    <tr>\n",
       "      <td>4</td>\n",
       "      <td>3.0</td>\n",
       "      <td>88</td>\n",
       "    </tr>\n",
       "    <tr>\n",
       "      <td>5</td>\n",
       "      <td>3.5</td>\n",
       "      <td>62</td>\n",
       "    </tr>\n",
       "    <tr>\n",
       "      <td>6</td>\n",
       "      <td>4.0</td>\n",
       "      <td>54</td>\n",
       "    </tr>\n",
       "    <tr>\n",
       "      <td>7</td>\n",
       "      <td>4.5</td>\n",
       "      <td>49</td>\n",
       "    </tr>\n",
       "  </tbody>\n",
       "</table>\n",
       "</div>"
      ],
      "text/plain": [
       "   Esik_degeri  Aykiri_DEger_sayisi\n",
       "0          1.0                  203\n",
       "1          1.5                  164\n",
       "2          2.0                  134\n",
       "3          2.5                  108\n",
       "4          3.0                   88\n",
       "5          3.5                   62\n",
       "6          4.0                   54\n",
       "7          4.5                   49"
      ]
     },
     "execution_count": 41,
     "metadata": {},
     "output_type": "execute_result"
    }
   ],
   "source": [
    "Tukey_expenditure = pd.DataFrame(esik_degerleri,columns=['Esik_degeri','Aykiri_DEger_sayisi'])\n",
    "Tukey_expenditure"
   ]
  },
  {
   "cell_type": "code",
   "execution_count": 44,
   "metadata": {},
   "outputs": [
    {
     "data": {
      "image/png": "[encoded data removed]",
      "text/plain": [
       "<Figure size 432x288 with 1 Axes>"
      ]
     },
     "metadata": {
      "needs_background": "light"
     },
     "output_type": "display_data"
    }
   ],
   "source": [
    "plt.plot(Tukey_expenditure['Esik_degeri'],Tukey_expenditure['Aykiri_DEger_sayisi'])\n",
    "plt.title(\"Tukey Total_EXPENDİTURE aykiri deger sayisi\")\n",
    "plt.show()"
   ]
  },
  {
   "cell_type": "markdown",
   "metadata": {},
   "source": [
    "- Özetle birbirlerine çok yakın degerleri ve dagılımlara sahip 2 değişkenimiz var"
   ]
  },
  {
   "cell_type": "markdown",
   "metadata": {},
   "source": [
    "#### Aykırı degerler nasıl düzeltilir\n",
    "- Aykırı değerleri veri kümemizden çıkarabiliriz.\n",
    "\n",
    "- Aykırı değerlere yeni değerler atayarak sınırlayabiliriz.\n",
    "\n",
    "- Onları analizimiz için zararsız bir değere dönüştürürüz."
   ]
  },
  {
   "cell_type": "markdown",
   "metadata": {},
   "source": [
    "#### Aykırı değerlerin sınırlandırılması = winsorization "
   ]
  },
  {
   "cell_type": "markdown",
   "metadata": {},
   "source": [
    "winsorize etme tek yönlü veya iki yönlü olarak uygulanabilir. Tek yönlü winsorize etmede, ya değer dağılımının en düşük ucunu ya da en yüksek ucunu sınırlarız. İki yönlü de ise hem en düşük hem de en yüksek ucu sınırlandırırız."
   ]
  },
  {
   "cell_type": "code",
   "execution_count": 89,
   "metadata": {},
   "outputs": [],
   "source": [
    "from scipy.stats.mstats import winsorize\n",
    "\n",
    "winsorize_revenue= winsorize(df['TOTAL_REVENUE'],( 0 , 0.10)) # yüzde 90 lık dilim\n",
    "winsorize_expenditure= winsorize(df['TOTAL_EXPENDITURE'],(0,0.10))\n"
   ]
  },
  {
   "cell_type": "code",
   "execution_count": 51,
   "metadata": {},
   "outputs": [
    {
     "data": {
      "text/plain": [
       "16208970.0"
      ]
     },
     "execution_count": 51,
     "metadata": {},
     "output_type": "execute_result"
    }
   ],
   "source": [
    "winsorize_revenue.max()"
   ]
  },
  {
   "cell_type": "code",
   "execution_count": 62,
   "metadata": {},
   "outputs": [
    {
     "data": {
      "text/plain": [
       "89217262.0"
      ]
     },
     "execution_count": 62,
     "metadata": {},
     "output_type": "execute_result"
    }
   ],
   "source": [
    "df['TOTAL_REVENUE'].max()"
   ]
  },
  {
   "cell_type": "code",
   "execution_count": 70,
   "metadata": {},
   "outputs": [
    {
     "data": {
      "text/plain": [
       "<bound method _flex_method_SERIES.<locals>.flex_wrapper of 0       2.678885e+06\n",
       "1       1.049591e+06\n",
       "2       3.258079e+06\n",
       "3       1.711959e+06\n",
       "4       2.626002e+07\n",
       "            ...     \n",
       "1913    9.290765e+06\n",
       "1914    9.290765e+06\n",
       "1915    9.290765e+06\n",
       "1916    9.290765e+06\n",
       "1917    9.290765e+06\n",
       "Name: TOTAL_REVENUE, Length: 1918, dtype: float64>"
      ]
     },
     "execution_count": 70,
     "metadata": {},
     "output_type": "execute_result"
    }
   ],
   "source": [
    "df['TOTAL_REVENUE'].mod"
   ]
  },
  {
   "cell_type": "code",
   "execution_count": 61,
   "metadata": {},
   "outputs": [
    {
     "data": {
      "text/plain": [
       "(1918,)"
      ]
     },
     "execution_count": 61,
     "metadata": {},
     "output_type": "execute_result"
    }
   ],
   "source": [
    "winsorize_revenue.shape"
   ]
  },
  {
   "cell_type": "code",
   "execution_count": 92,
   "metadata": {},
   "outputs": [
    {
     "data": {
      "image/png": "[encoded data removed]",
      "text/plain": [
       "<Figure size 1080x360 with 2 Axes>"
      ]
     },
     "metadata": {
      "needs_background": "light"
     },
     "output_type": "display_data"
    }
   ],
   "source": [
    "# boxplot kullanarak winsorize edilmiş verileri görselleştirelim\n",
    "plt.figure(figsize=(15,5))\n",
    "plt.subplot(1,2,1)\n",
    "plt.boxplot(winsorize_revenue)\n",
    "plt.title(\"Total_Revenue winsorize kutu grafigi (whis=1.5)\")\n",
    "\n",
    "plt.subplot(1,2,2)\n",
    "plt.boxplot(winsorize_expenditure)\n",
    "plt.title(\"Total_Expenditure winsorize kutu grafigi (whis=1.5)\")\n",
    "\n",
    "plt.show()"
   ]
  },
  {
   "cell_type": "code",
   "execution_count": 73,
   "metadata": {},
   "outputs": [
    {
     "data": {
      "image/png": "[encoded data removed]",
      "text/plain": [
       "<Figure size 432x288 with 1 Axes>"
      ]
     },
     "metadata": {
      "needs_background": "light"
     },
     "output_type": "display_data"
    }
   ],
   "source": [
    "plt.hist(winsorize_revenue)\n",
    "plt.show()"
   ]
  },
  {
   "cell_type": "markdown",
   "metadata": {},
   "source": [
    "### Aykırı degerleri dönüştürme (log-KareKök)"
   ]
  },
  {
   "cell_type": "code",
   "execution_count": 74,
   "metadata": {},
   "outputs": [
    {
     "data": {
      "image/png": "[encoded data removed]",
      "text/plain": [
       "<Figure size 1080x360 with 2 Axes>"
      ]
     },
     "metadata": {
      "needs_background": "light"
     },
     "output_type": "display_data"
    }
   ],
   "source": [
    "plt.figure(figsize=(15,5))\n",
    "\n",
    "plt.subplot(1,2,1)\n",
    "plt.hist(df['TOTAL_REVENUE'])\n",
    "plt.title(\"Total Revenue\")\n",
    "\n",
    "plt.subplot(1,2,2)\n",
    "plt.hist(np.log(df['TOTAL_REVENUE']))\n",
    "plt.title(\"Total Revenue (Log Dönüşümlü)\")\n",
    "\n",
    "plt.show()"
   ]
  },
  {
   "cell_type": "code",
   "execution_count": 75,
   "metadata": {},
   "outputs": [
    {
     "data": {
      "image/png": "[encoded data removed]",
      "text/plain": [
       "<Figure size 1080x360 with 2 Axes>"
      ]
     },
     "metadata": {
      "needs_background": "light"
     },
     "output_type": "display_data"
    }
   ],
   "source": [
    "plt.figure(figsize=(15,5))\n",
    "\n",
    "plt.subplot(1,2,1)\n",
    "plt.hist(df['TOTAL_EXPENDITURE'])\n",
    "plt.title(\"TOTAL_EXPENDITURE\")\n",
    "\n",
    "plt.subplot(1,2,2)\n",
    "plt.hist(np.log(df['TOTAL_EXPENDITURE']))\n",
    "plt.title(\"TOTAL_EXPENDITURE (Log Dönüşümlü)\")\n",
    "\n",
    "plt.show()"
   ]
  },
  {
   "cell_type": "code",
   "execution_count": 76,
   "metadata": {},
   "outputs": [
    {
     "data": {
      "image/png": "[encoded data removed]",
      "text/plain": [
       "<Figure size 1080x360 with 2 Axes>"
      ]
     },
     "metadata": {
      "needs_background": "light"
     },
     "output_type": "display_data"
    }
   ],
   "source": [
    "plt.figure(figsize = (15,5))\n",
    "\n",
    "plt.subplot(1,2,1)\n",
    "plt.boxplot(df[\"TOTAL_EXPENDITURE\"])\n",
    "plt.title(\"TOTAL_EXPENDITURE Sayısı\")\n",
    "\n",
    "plt.subplot(1,2,2)\n",
    "plt.boxplot(np.log(df[\"TOTAL_EXPENDITURE\"]))\n",
    "plt.title(\"TOTAL_EXPENDITURE Sayısı (log dönüşümlü)\")\n",
    "plt.show()"
   ]
  },
  {
   "cell_type": "code",
   "execution_count": 78,
   "metadata": {},
   "outputs": [
    {
     "data": {
      "image/png": "[encoded data removed]",
      "text/plain": [
       "<Figure size 1080x360 with 2 Axes>"
      ]
     },
     "metadata": {
      "needs_background": "light"
     },
     "output_type": "display_data"
    }
   ],
   "source": [
    "plt.figure(figsize = (15,5))\n",
    "\n",
    "plt.subplot(1,2,1)\n",
    "plt.boxplot(df[\"TOTAL_REVENUE\"])\n",
    "plt.title(\"TOTAL_REVENUE Sayısı\")\n",
    "\n",
    "plt.subplot(1,2,2)\n",
    "plt.boxplot(np.log(df[\"TOTAL_REVENUE\"]))\n",
    "plt.title(\"TOTAL_REVENUE Sayısı (log dönüşümlü)\")\n",
    "plt.show()"
   ]
  },
  {
   "cell_type": "code",
   "execution_count": 79,
   "metadata": {},
   "outputs": [],
   "source": [
    "q75_log, q25_log = np.percentile(np.log(df[\"TOTAL_REVENUE\"]), [75 ,25])\n",
    "IQR_log = q75_log - q25_log"
   ]
  },
  {
   "cell_type": "code",
   "execution_count": 84,
   "metadata": {},
   "outputs": [
    {
     "data": {
      "text/html": [
       "<div>\n",
       "<style scoped>\n",
       "    .dataframe tbody tr th:only-of-type {\n",
       "        vertical-align: middle;\n",
       "    }\n",
       "\n",
       "    .dataframe tbody tr th {\n",
       "        vertical-align: top;\n",
       "    }\n",
       "\n",
       "    .dataframe thead th {\n",
       "        text-align: right;\n",
       "    }\n",
       "</style>\n",
       "<table border=\"1\" class=\"dataframe\">\n",
       "  <thead>\n",
       "    <tr style=\"text-align: right;\">\n",
       "      <th></th>\n",
       "      <th>esik_degeri</th>\n",
       "      <th>aykiri_deger_sayisi</th>\n",
       "      <th>aykiri_deger_sayisi_log</th>\n",
       "    </tr>\n",
       "  </thead>\n",
       "  <tbody>\n",
       "    <tr>\n",
       "      <td>0</td>\n",
       "      <td>1.0</td>\n",
       "      <td>208.0</td>\n",
       "      <td>252.0</td>\n",
       "    </tr>\n",
       "    <tr>\n",
       "      <td>1</td>\n",
       "      <td>1.5</td>\n",
       "      <td>165.0</td>\n",
       "      <td>77.0</td>\n",
       "    </tr>\n",
       "    <tr>\n",
       "      <td>2</td>\n",
       "      <td>2.0</td>\n",
       "      <td>133.0</td>\n",
       "      <td>12.0</td>\n",
       "    </tr>\n",
       "    <tr>\n",
       "      <td>3</td>\n",
       "      <td>2.5</td>\n",
       "      <td>108.0</td>\n",
       "      <td>0.0</td>\n",
       "    </tr>\n",
       "    <tr>\n",
       "      <td>4</td>\n",
       "      <td>3.0</td>\n",
       "      <td>83.0</td>\n",
       "      <td>0.0</td>\n",
       "    </tr>\n",
       "    <tr>\n",
       "      <td>5</td>\n",
       "      <td>3.5</td>\n",
       "      <td>64.0</td>\n",
       "      <td>0.0</td>\n",
       "    </tr>\n",
       "    <tr>\n",
       "      <td>6</td>\n",
       "      <td>4.0</td>\n",
       "      <td>52.0</td>\n",
       "      <td>0.0</td>\n",
       "    </tr>\n",
       "    <tr>\n",
       "      <td>7</td>\n",
       "      <td>4.5</td>\n",
       "      <td>48.0</td>\n",
       "      <td>0.0</td>\n",
       "    </tr>\n",
       "  </tbody>\n",
       "</table>\n",
       "</div>"
      ],
      "text/plain": [
       "   esik_degeri  aykiri_deger_sayisi  aykiri_deger_sayisi_log\n",
       "0          1.0                208.0                    252.0\n",
       "1          1.5                165.0                     77.0\n",
       "2          2.0                133.0                     12.0\n",
       "3          2.5                108.0                      0.0\n",
       "4          3.0                 83.0                      0.0\n",
       "5          3.5                 64.0                      0.0\n",
       "6          4.0                 52.0                      0.0\n",
       "7          4.5                 48.0                      0.0"
      ]
     },
     "execution_count": 84,
     "metadata": {},
     "output_type": "execute_result"
    }
   ],
   "source": [
    "log_esik_degerleri = pd.DataFrame(columns=['esik_degeri', 'aykiri_deger_sayisi', 'aykiri_deger_sayisi_log'])\n",
    "\n",
    "for esik_degeri in np.arange(1,5,0.5):\n",
    "    min_deger_log = q25_log - (IQR_log*esik_degeri) \n",
    "    maks_deger_log = q75_log + (IQR_log*esik_degeri)\n",
    "    min_deger = q25 - (IQR*esik_degeri) #log dönüşümü olmadan\n",
    "    maks_deger = q75 + (IQR*esik_degeri) #log dönüşümü olmadan\n",
    "    \n",
    "    aykiri_deger_sayisi_log = len((np.where((np.log(df[\"TOTAL_REVENUE\"]) > maks_deger_log)| \n",
    "                                       (np.log(df[\"TOTAL_REVENUE\"]) < min_deger_log))[0]))\n",
    "    aykiri_deger_sayisi = len((np.where((df[\"TOTAL_REVENUE\"] > maks_deger)| \n",
    "                                       (df[\"TOTAL_REVENUE\"] < min_deger))[0]))\n",
    "    log_esik_degerleri = log_esik_degerleri.append({'esik_degeri': esik_degeri,\n",
    "                                                    'aykiri_deger_sayisi' : aykiri_deger_sayisi, #log dönüşümü olmadan\n",
    "                                                    'aykiri_deger_sayisi_log': aykiri_deger_sayisi_log \n",
    "                                                    }, ignore_index=True)\n",
    "log_esik_degerleri"
   ]
  },
  {
   "cell_type": "code",
   "execution_count": 93,
   "metadata": {},
   "outputs": [
    {
     "data": {
      "image/png": "[encoded data removed]",
      "text/plain": [
       "<Figure size 432x288 with 1 Axes>"
      ]
     },
     "metadata": {
      "needs_background": "light"
     },
     "output_type": "display_data"
    }
   ],
   "source": [
    "log_esik_degerleri.plot(x = 'esik_degeri', y=['aykiri_deger_sayisi_log', 'aykiri_deger_sayisi'])\n",
    "plt.title('Eşik Değeri & Aykırı Değer Sayısı' )\n",
    "plt.ylabel('Eşik Değeri' )\n",
    "plt.xlabel('Aykırı Değer Sayısı')\n",
    "plt.legend(('Logaritmik dönüşümlü', 'Normal'))\n",
    "plt.show()"
   ]
  },
  {
   "cell_type": "code",
   "execution_count": 94,
   "metadata": {},
   "outputs": [],
   "source": [
    "budget_deficit =df.TOTAL_REVENUE - df.TOTAL_EXPENDITURE"
   ]
  },
  {
   "cell_type": "code",
   "execution_count": 95,
   "metadata": {},
   "outputs": [
    {
     "data": {
      "text/plain": [
       "Text(0.5, 1.0, 'Box plot -  budget deficit')"
      ]
     },
     "execution_count": 95,
     "metadata": {},
     "output_type": "execute_result"
    },
    {
     "data": {
      "image/png": "[encoded data removed]",
      "text/plain": [
       "<Figure size 432x288 with 1 Axes>"
      ]
     },
     "metadata": {
      "needs_background": "light"
     },
     "output_type": "display_data"
    }
   ],
   "source": [
    "plt.boxplot(budget_deficit, whis = 5)\n",
    "plt.title(\"Box plot -  budget deficit\")"
   ]
  },
  {
   "cell_type": "code",
   "execution_count": 98,
   "metadata": {},
   "outputs": [],
   "source": [
    "winsorize_budget = winsorize(budget_deficit, (0.05, 0.10))"
   ]
  },
  {
   "cell_type": "code",
   "execution_count": 100,
   "metadata": {},
   "outputs": [
    {
     "data": {
      "text/plain": [
       "Text(0.5, 1.0, 'Box plot - budget deficit')"
      ]
     },
     "execution_count": 100,
     "metadata": {},
     "output_type": "execute_result"
    },
    {
     "data": {
      "image/png": "[encoded data removed]",
      "text/plain": [
       "<Figure size 432x288 with 1 Axes>"
      ]
     },
     "metadata": {
      "needs_background": "light"
     },
     "output_type": "display_data"
    }
   ],
   "source": [
    "plt.boxplot(winsorize_budget, whis = 5)\n",
    "plt.title(\"Box plot - budget deficit\") # aşırı degerler temizlendi"
   ]
  },
  {
   "cell_type": "code",
   "execution_count": 101,
   "metadata": {},
   "outputs": [],
   "source": [
    "budget_deficit2 = winsorize_revenue - winsorize_expenditure"
   ]
  },
  {
   "cell_type": "code",
   "execution_count": 103,
   "metadata": {},
   "outputs": [
    {
     "data": {
      "text/plain": [
       "Text(0.5, 1.0, 'Box plot - budget deficit 2')"
      ]
     },
     "execution_count": 103,
     "metadata": {},
     "output_type": "execute_result"
    },
    {
     "data": {
      "image/png": "[encoded data removed]",
      "text/plain": [
       "<Figure size 432x288 with 1 Axes>"
      ]
     },
     "metadata": {
      "needs_background": "light"
     },
     "output_type": "display_data"
    }
   ],
   "source": [
    "plt.boxplot(budget_deficit2, whis = 5)\n",
    "plt.title(\"Box plot - budget deficit 2\") # burada da aşırı degerler var"
   ]
  },
  {
   "cell_type": "code",
   "execution_count": 104,
   "metadata": {},
   "outputs": [],
   "source": [
    "winsorize_budget2 = winsorize(budget_deficit2, (0.05, 0.05))"
   ]
  },
  {
   "cell_type": "code",
   "execution_count": 105,
   "metadata": {
    "scrolled": true
   },
   "outputs": [
    {
     "data": {
      "text/plain": [
       "Text(0.5, 1.0, 'Box plot of budget deficit 2')"
      ]
     },
     "execution_count": 105,
     "metadata": {},
     "output_type": "execute_result"
    },
    {
     "data": {
      "image/png": "[encoded data removed]",
      "text/plain": [
       "<Figure size 432x288 with 1 Axes>"
      ]
     },
     "metadata": {
      "needs_background": "light"
     },
     "output_type": "display_data"
    }
   ],
   "source": [
    "plt.boxplot(winsorize_budget2, whis = 5)\n",
    "plt.title(\"Box plot of budget deficit 2\")"
   ]
  },
  {
   "cell_type": "markdown",
   "metadata": {},
   "source": [
    "Çoğu değeri eledik. Alt eşiği artırırsek bu değerleri de elimine edebiliriz. Ancak ikisini karşılaştırabilmek açısından %5 olarak tutmak daha uygun gibi."
   ]
  },
  {
   "cell_type": "code",
   "execution_count": 106,
   "metadata": {},
   "outputs": [
    {
     "data": {
      "text/html": [
       "<div>\n",
       "<style scoped>\n",
       "    .dataframe tbody tr th:only-of-type {\n",
       "        vertical-align: middle;\n",
       "    }\n",
       "\n",
       "    .dataframe tbody tr th {\n",
       "        vertical-align: top;\n",
       "    }\n",
       "\n",
       "    .dataframe thead th {\n",
       "        text-align: right;\n",
       "    }\n",
       "</style>\n",
       "<table border=\"1\" class=\"dataframe\">\n",
       "  <thead>\n",
       "    <tr style=\"text-align: right;\">\n",
       "      <th></th>\n",
       "      <th>orijinal_budget</th>\n",
       "      <th>winsorize_budget1</th>\n",
       "      <th>winsorize_budget2</th>\n",
       "    </tr>\n",
       "  </thead>\n",
       "  <tbody>\n",
       "    <tr>\n",
       "      <td>count</td>\n",
       "      <td>1.918000e+03</td>\n",
       "      <td>1918.000000</td>\n",
       "      <td>1918.000000</td>\n",
       "    </tr>\n",
       "    <tr>\n",
       "      <td>mean</td>\n",
       "      <td>-1.043840e+05</td>\n",
       "      <td>-92854.988485</td>\n",
       "      <td>-53078.686087</td>\n",
       "    </tr>\n",
       "    <tr>\n",
       "      <td>std</td>\n",
       "      <td>4.682105e+05</td>\n",
       "      <td>176890.002800</td>\n",
       "      <td>118390.684929</td>\n",
       "    </tr>\n",
       "    <tr>\n",
       "      <td>min</td>\n",
       "      <td>-5.487742e+06</td>\n",
       "      <td>-599462.000000</td>\n",
       "      <td>-306362.000000</td>\n",
       "    </tr>\n",
       "    <tr>\n",
       "      <td>25%</td>\n",
       "      <td>-1.051710e+05</td>\n",
       "      <td>-105170.964869</td>\n",
       "      <td>-105170.964869</td>\n",
       "    </tr>\n",
       "    <tr>\n",
       "      <td>50%</td>\n",
       "      <td>-1.051710e+05</td>\n",
       "      <td>-105170.964869</td>\n",
       "      <td>-90773.500000</td>\n",
       "    </tr>\n",
       "    <tr>\n",
       "      <td>75%</td>\n",
       "      <td>8.509250e+03</td>\n",
       "      <td>8509.250000</td>\n",
       "      <td>7065.000000</td>\n",
       "    </tr>\n",
       "    <tr>\n",
       "      <td>max</td>\n",
       "      <td>3.897129e+06</td>\n",
       "      <td>151893.000000</td>\n",
       "      <td>216266.000000</td>\n",
       "    </tr>\n",
       "  </tbody>\n",
       "</table>\n",
       "</div>"
      ],
      "text/plain": [
       "       orijinal_budget  winsorize_budget1  winsorize_budget2\n",
       "count     1.918000e+03        1918.000000        1918.000000\n",
       "mean     -1.043840e+05      -92854.988485      -53078.686087\n",
       "std       4.682105e+05      176890.002800      118390.684929\n",
       "min      -5.487742e+06     -599462.000000     -306362.000000\n",
       "25%      -1.051710e+05     -105170.964869     -105170.964869\n",
       "50%      -1.051710e+05     -105170.964869      -90773.500000\n",
       "75%       8.509250e+03        8509.250000        7065.000000\n",
       "max       3.897129e+06      151893.000000      216266.000000"
      ]
     },
     "execution_count": 106,
     "metadata": {},
     "output_type": "execute_result"
    }
   ],
   "source": [
    "pd.DataFrame({\"orijinal_budget\": budget_deficit, \"winsorize_budget1\": winsorize_budget,\n",
    "              \"winsorize_budget2\": winsorize_budget2}).describe()"
   ]
  },
  {
   "cell_type": "code",
   "execution_count": null,
   "metadata": {},
   "outputs": [],
   "source": []
  }
 ],
 "metadata": {
  "kernelspec": {
   "display_name": "Python 3",
   "language": "python",
   "name": "python3"
  },
  "language_info": {
   "codemirror_mode": {
    "name": "ipython",
    "version": 3
   },
   "file_extension": ".py",
   "mimetype": "text/x-python",
   "name": "python",
   "nbconvert_exporter": "python",
   "pygments_lexer": "ipython3",
   "version": "3.7.4"
  }
 },
 "nbformat": 4,
 "nbformat_minor": 2
}
