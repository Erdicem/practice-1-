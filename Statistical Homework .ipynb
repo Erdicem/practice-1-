{
 "cells": [
  {
   "cell_type": "markdown",
   "metadata": {},
   "source": [
    "## Statistical Homework\n"
   ]
  },
  {
   "cell_type": "code",
   "execution_count": 1,
   "metadata": {},
   "outputs": [],
   "source": [
    "import numpy as np\n",
    "import pandas as pd\n",
    "mean_var=np.random.normal(100,50,200)\n",
    "low_var=np.random.normal(150,20,200)\n",
    "high_var=np.random.normal(50,100,200)"
   ]
  },
  {
   "cell_type": "code",
   "execution_count": 2,
   "metadata": {},
   "outputs": [
    {
     "name": "stdout",
     "output_type": "stream",
     "text": [
      "'Mean_Var' Array in Değerleri\n",
      "Ortalama:  99.59685850337708\n",
      "Varyans:  2579.070983358722\n",
      "Standard Sapma:  50.91199405890514\n",
      "Medyan:  95.10875577390047\n"
     ]
    }
   ],
   "source": [
    "print(\"'Mean_Var' Array in Değerleri\")\n",
    "print(\"Ortalama: \",mean_var.mean())\n",
    "print(\"Varyans: \",mean_var.var())\n",
    "print(\"Standard Sapma: \",mean_var.std(ddof=1))\n",
    "print(\"Medyan: \", np.median(mean_var))"
   ]
  },
  {
   "cell_type": "code",
   "execution_count": 3,
   "metadata": {},
   "outputs": [
    {
     "name": "stdout",
     "output_type": "stream",
     "text": [
      "'low_var' Array in Değerleri\n",
      "Ortalama:  150.33448234251068\n",
      "Varyans:  410.15475299681754\n",
      "Standard Sapma:  20.303099077668058\n",
      "Medyan:  152.38750776290104\n"
     ]
    }
   ],
   "source": [
    "print(\"'low_var' Array in Değerleri\")\n",
    "print(\"Ortalama: \",low_var.mean())\n",
    "print(\"Varyans: \",low_var.var())\n",
    "print(\"Standard Sapma: \",low_var.std(ddof=1))\n",
    "print(\"Medyan: \", np.median(low_var))"
   ]
  },
  {
   "cell_type": "code",
   "execution_count": 4,
   "metadata": {},
   "outputs": [
    {
     "name": "stdout",
     "output_type": "stream",
     "text": [
      "'high_var' Array in Değerleri\n",
      "Ortalama:  48.574403033169084\n",
      "Varyans:  9640.942859065486\n",
      "Standard Sapma:  98.43469819177594\n",
      "Medyan:  59.4089742380325\n"
     ]
    }
   ],
   "source": [
    "print(\"'high_var' Array in Değerleri\")\n",
    "print(\"Ortalama: \",high_var.mean())\n",
    "print(\"Varyans: \",high_var.var())\n",
    "print(\"Standard Sapma: \",high_var.std(ddof=1))\n",
    "print(\"Medyan: \", np.median(high_var))"
   ]
  },
  {
   "cell_type": "code",
   "execution_count": 5,
   "metadata": {},
   "outputs": [
    {
     "data": {
      "text/html": [
       "<div>\n",
       "<style scoped>\n",
       "    .dataframe tbody tr th:only-of-type {\n",
       "        vertical-align: middle;\n",
       "    }\n",
       "\n",
       "    .dataframe tbody tr th {\n",
       "        vertical-align: top;\n",
       "    }\n",
       "\n",
       "    .dataframe thead th {\n",
       "        text-align: right;\n",
       "    }\n",
       "</style>\n",
       "<table border=\"1\" class=\"dataframe\">\n",
       "  <thead>\n",
       "    <tr style=\"text-align: right;\">\n",
       "      <th></th>\n",
       "      <th>mean_var</th>\n",
       "      <th>low_var</th>\n",
       "      <th>high_var</th>\n",
       "    </tr>\n",
       "  </thead>\n",
       "  <tbody>\n",
       "    <tr>\n",
       "      <td>0</td>\n",
       "      <td>131.886589</td>\n",
       "      <td>126.661077</td>\n",
       "      <td>9.604028</td>\n",
       "    </tr>\n",
       "    <tr>\n",
       "      <td>1</td>\n",
       "      <td>72.275377</td>\n",
       "      <td>132.699081</td>\n",
       "      <td>-62.014954</td>\n",
       "    </tr>\n",
       "    <tr>\n",
       "      <td>2</td>\n",
       "      <td>34.998526</td>\n",
       "      <td>176.712369</td>\n",
       "      <td>24.981728</td>\n",
       "    </tr>\n",
       "    <tr>\n",
       "      <td>3</td>\n",
       "      <td>52.905493</td>\n",
       "      <td>143.090168</td>\n",
       "      <td>-179.596761</td>\n",
       "    </tr>\n",
       "    <tr>\n",
       "      <td>4</td>\n",
       "      <td>161.433957</td>\n",
       "      <td>178.280323</td>\n",
       "      <td>14.207681</td>\n",
       "    </tr>\n",
       "  </tbody>\n",
       "</table>\n",
       "</div>"
      ],
      "text/plain": [
       "     mean_var     low_var    high_var\n",
       "0  131.886589  126.661077    9.604028\n",
       "1   72.275377  132.699081  -62.014954\n",
       "2   34.998526  176.712369   24.981728\n",
       "3   52.905493  143.090168 -179.596761\n",
       "4  161.433957  178.280323   14.207681"
      ]
     },
     "execution_count": 5,
     "metadata": {},
     "output_type": "execute_result"
    }
   ],
   "source": [
    "# Örneklem alıp bias değerini bulmak\n",
    "# bias = örneklem ort - popülasyon ort.\n",
    "import matplotlib.pyplot as plt\n",
    "veri = pd.DataFrame()\n",
    "veri['mean_var']= np.random.normal(100,50,200)\n",
    "veri['low_var']=np.random.normal(150,20,200)\n",
    "veri['high_var']=np.random.normal(50,100,200)\n",
    "veri.head()"
   ]
  },
  {
   "cell_type": "code",
   "execution_count": 6,
   "metadata": {},
   "outputs": [
    {
     "data": {
      "image/png": "[encoded data removed]",
      "text/plain": [
       "<Figure size 432x288 with 3 Axes>"
      ]
     },
     "metadata": {
      "needs_background": "light"
     },
     "output_type": "display_data"
    }
   ],
   "source": [
    "veri.hist(layout=(3,1), sharex=True)\n",
    "plt.show()"
   ]
  },
  {
   "cell_type": "code",
   "execution_count": 7,
   "metadata": {},
   "outputs": [
    {
     "name": "stdout",
     "output_type": "stream",
     "text": [
      "MAx. Değerler:'\n",
      "' mean_var    231.583819\n",
      "low_var     221.133466\n",
      "high_var    327.530732\n",
      "dtype: float64\n",
      "\n",
      "Min. Değerler:'\n",
      "' mean_var    -41.288610\n",
      "low_var      93.462182\n",
      "high_var   -275.873966\n",
      "dtype: float64\n",
      "\n",
      "Ortalamaları:'\n",
      "' mean_var     99.502783\n",
      "low_var     150.907010\n",
      "high_var     40.597536\n",
      "dtype: float64\n"
     ]
    }
   ],
   "source": [
    "print(\"MAx. Değerler:'\\n'\",veri.max())\n",
    "print()\n",
    "print(\"Min. Değerler:'\\n'\",veri.min())\n",
    "print()\n",
    "print(\"Ortalamaları:'\\n'\",np.mean(veri))"
   ]
  },
  {
   "cell_type": "code",
   "execution_count": 8,
   "metadata": {},
   "outputs": [
    {
     "data": {
      "text/html": [
       "<div>\n",
       "<style scoped>\n",
       "    .dataframe tbody tr th:only-of-type {\n",
       "        vertical-align: middle;\n",
       "    }\n",
       "\n",
       "    .dataframe tbody tr th {\n",
       "        vertical-align: top;\n",
       "    }\n",
       "\n",
       "    .dataframe thead th {\n",
       "        text-align: right;\n",
       "    }\n",
       "</style>\n",
       "<table border=\"1\" class=\"dataframe\">\n",
       "  <thead>\n",
       "    <tr style=\"text-align: right;\">\n",
       "      <th></th>\n",
       "      <th>mean_var</th>\n",
       "      <th>low_var</th>\n",
       "      <th>high_var</th>\n",
       "    </tr>\n",
       "  </thead>\n",
       "  <tbody>\n",
       "    <tr>\n",
       "      <td>0</td>\n",
       "      <td>107.028460</td>\n",
       "      <td>104.166747</td>\n",
       "      <td>11.611821</td>\n",
       "    </tr>\n",
       "    <tr>\n",
       "      <td>1</td>\n",
       "      <td>119.850847</td>\n",
       "      <td>93.462182</td>\n",
       "      <td>9.468938</td>\n",
       "    </tr>\n",
       "    <tr>\n",
       "      <td>2</td>\n",
       "      <td>76.287106</td>\n",
       "      <td>134.445546</td>\n",
       "      <td>-10.232627</td>\n",
       "    </tr>\n",
       "    <tr>\n",
       "      <td>3</td>\n",
       "      <td>149.214027</td>\n",
       "      <td>157.811516</td>\n",
       "      <td>28.864502</td>\n",
       "    </tr>\n",
       "    <tr>\n",
       "      <td>4</td>\n",
       "      <td>163.199992</td>\n",
       "      <td>123.133008</td>\n",
       "      <td>133.572526</td>\n",
       "    </tr>\n",
       "  </tbody>\n",
       "</table>\n",
       "</div>"
      ],
      "text/plain": [
       "     mean_var     low_var    high_var\n",
       "0  107.028460  104.166747   11.611821\n",
       "1  119.850847   93.462182    9.468938\n",
       "2   76.287106  134.445546  -10.232627\n",
       "3  149.214027  157.811516   28.864502\n",
       "4  163.199992  123.133008  133.572526"
      ]
     },
     "execution_count": 8,
     "metadata": {},
     "output_type": "execute_result"
    }
   ],
   "source": [
    "# Örneklem alıp bias ölç : örneklem ort. - popülasyon ort. \n",
    "\n",
    "sample= pd.DataFrame()\n",
    "sample['mean_var']= np.random.choice(veri['mean_var'],50)\n",
    "sample['low_var']= np.random.choice(veri['low_var'],50)\n",
    "sample['high_var']= np.random.choice(veri['high_var'],50)\n",
    "sample.head()"
   ]
  },
  {
   "cell_type": "code",
   "execution_count": 9,
   "metadata": {},
   "outputs": [
    {
     "data": {
      "image/png": "[encoded data removed]",
      "text/plain": [
       "<Figure size 432x288 with 3 Axes>"
      ]
     },
     "metadata": {
      "needs_background": "light"
     },
     "output_type": "display_data"
    }
   ],
   "source": [
    "sample.hist(layout=(3,1), sharex=True)\n",
    "plt.show()"
   ]
  },
  {
   "cell_type": "code",
   "execution_count": 11,
   "metadata": {},
   "outputs": [
    {
     "data": {
      "image/png": "[encoded data removed]",
      "text/plain": [
       "<Figure size 432x288 with 1 Axes>"
      ]
     },
     "metadata": {
      "needs_background": "light"
     },
     "output_type": "display_data"
    }
   ],
   "source": [
    "# High_var değişkeninin örneklem ile popülasyon Görseli\n",
    "plt.hist(sample['high_var'],color='red', alpha=.5)\n",
    "plt.hist(veri['high_var'],color='blue', alpha=.5)\n",
    "plt.title('Örneklem VS Popülasyon')\n",
    "plt.ylabel('count')\n",
    "plt.xlabel('Rastgele Değerler')\n",
    "plt.show()"
   ]
  },
  {
   "cell_type": "code",
   "execution_count": 12,
   "metadata": {},
   "outputs": [
    {
     "name": "stdout",
     "output_type": "stream",
     "text": [
      "Bias ration of High_Var:  -12.323915409182241\n"
     ]
    }
   ],
   "source": [
    "# Örneklem datasetler ile popüasyon datasetlerin ort. karşılasması\n",
    "#örneklem ort. - popülasyon ort\n",
    "# yanlılık yüksek çıktı çünkü varyans yüksek dolayısıyla bütün veri noktaları ortalama değerlerden farklı veya uzak değerlere sahip\n",
    "bias_high=veri['high_var'].mean() - sample['high_var'].mean()\n",
    "print(\"Bias ration of High_Var: \", bias_high)"
   ]
  },
  {
   "cell_type": "code",
   "execution_count": 13,
   "metadata": {},
   "outputs": [
    {
     "name": "stdout",
     "output_type": "stream",
     "text": [
      "Bias ration of low_var:  2.7378077542828976\n"
     ]
    }
   ],
   "source": [
    "# yanlılık düşük çıktı çünkü varyans düşük dolayıssıylar bütün veri noktaları ort. ile benzer değerlere sahip\n",
    "bias_low=veri['low_var'].mean() - sample['low_var'].mean()\n",
    "print(\"Bias ration of low_var: \", bias_low)"
   ]
  },
  {
   "cell_type": "code",
   "execution_count": null,
   "metadata": {},
   "outputs": [],
   "source": []
  }
 ],
 "metadata": {
  "kernelspec": {
   "display_name": "Python 3",
   "language": "python",
   "name": "python3"
  },
  "language_info": {
   "codemirror_mode": {
    "name": "ipython",
    "version": 3
   },
   "file_extension": ".py",
   "mimetype": "text/x-python",
   "name": "python",
   "nbconvert_exporter": "python",
   "pygments_lexer": "ipython3",
   "version": "3.7.4"
  }
 },
 "nbformat": 4,
 "nbformat_minor": 2
}
